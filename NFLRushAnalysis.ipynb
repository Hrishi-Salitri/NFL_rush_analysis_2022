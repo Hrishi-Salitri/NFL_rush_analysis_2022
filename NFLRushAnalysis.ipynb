{
 "cells": [
  {
   "cell_type": "code",
   "execution_count": 1,
   "metadata": {},
   "outputs": [],
   "source": [
    "import pandas as pd\n",
    "import matplotlib.pyplot as plt\n",
    "from sklearn.preprocessing import StandardScaler\n",
    "import plotly.graph_objects as go\n",
    "import seaborn as sns"
   ]
  },
  {
   "cell_type": "markdown",
   "metadata": {},
   "source": [
    "# Welcome to my Dataset! \n",
    "## This Notebook will run you through some stats and visualizations of Running Backs from the 2022 NFL season\n",
    "\n",
    "The goal is to look at a few rushing and recieving stats of running backs from 2022\n",
    "Couple of notes:\n",
    "* Per Pro-Football-Reference (https://www.pro-football-reference.com/about/minimums.htm) only Running Backs that have at least 6.25 carries a game and played in at least 50% of the team's games are significant enough view stats for\n",
    "    * Likewise, this analysis is in scope of those limitations \n",
    "* This analysis only consists of a few stats that Running Backs (RBs) can accumulate, there are many many more ways to analyze RBs"
   ]
  },
  {
   "cell_type": "markdown",
   "metadata": {},
   "source": [
    "Press play on the below cell:\n",
    "- A table of all data will be shown \n",
    "\n",
    "## Background\n",
    "\n",
    "Column Names:\n",
    "* Total_Yds - Total yards gained in the season by player, only rushing and receiving yards taken into account\n",
    "* Rush_Yds - Rushing yards gained in the season by player\n",
    "* Rec_Yds - Recieving yards gained in the season by player\n",
    "* Yds/Rush - Rushing yards gained per rushing attempt by player (higher the number the more efficient the player, and vice versa)\n",
    "* Receptions/G - Receptions (Catches) made per game by player \n",
    "* Total_TDs - Total amount of touchdowns scored in the season by player \n",
    "* Age - Age by player\n",
    "\n",
    "Colors aren't scary!!!\n",
    "- The more green each cell is, the higher the stat is compared to the rest of the column\n",
    "- The more pink each cell is, the lower the stat is compared to the rest of the column\n",
    "    For example Josh Jacobs is the most green in Total_Yds beacuse he had the most total yards on the season among other RBs"
   ]
  },
  {
   "cell_type": "code",
   "execution_count": 3,
   "metadata": {},
   "outputs": [
    {
     "data": {
      "text/html": [
       "<style type=\"text/css\">\n",
       "#T_2f1e5_row0_col2, #T_2f1e5_row0_col3, #T_2f1e5_row2_col4, #T_2f1e5_row5_col6, #T_2f1e5_row5_col7, #T_2f1e5_row33_col8, #T_2f1e5_row36_col5, #T_2f1e5_row42_col5 {\n",
       "  background-color: #276419;\n",
       "  color: #f1f1f1;\n",
       "}\n",
       "#T_2f1e5_row0_col4, #T_2f1e5_row30_col6 {\n",
       "  background-color: #f0f6e7;\n",
       "  color: #000000;\n",
       "}\n",
       "#T_2f1e5_row0_col5, #T_2f1e5_row9_col2, #T_2f1e5_row12_col5, #T_2f1e5_row17_col5, #T_2f1e5_row22_col5, #T_2f1e5_row24_col5, #T_2f1e5_row28_col5, #T_2f1e5_row40_col5, #T_2f1e5_row45_col5 {\n",
       "  background-color: #d6eeb6;\n",
       "  color: #000000;\n",
       "}\n",
       "#T_2f1e5_row0_col6, #T_2f1e5_row32_col6 {\n",
       "  background-color: #f8f5f6;\n",
       "  color: #000000;\n",
       "}\n",
       "#T_2f1e5_row0_col7, #T_2f1e5_row11_col7, #T_2f1e5_row27_col7 {\n",
       "  background-color: #d0ecad;\n",
       "  color: #000000;\n",
       "}\n",
       "#T_2f1e5_row0_col8, #T_2f1e5_row8_col8, #T_2f1e5_row13_col8, #T_2f1e5_row26_col8, #T_2f1e5_row32_col8, #T_2f1e5_row36_col8, #T_2f1e5_row42_col8, #T_2f1e5_row46_col8, #T_2f1e5_row50_col8 {\n",
       "  background-color: #de77ae;\n",
       "  color: #f1f1f1;\n",
       "}\n",
       "#T_2f1e5_row1_col2 {\n",
       "  background-color: #40831e;\n",
       "  color: #f1f1f1;\n",
       "}\n",
       "#T_2f1e5_row1_col3 {\n",
       "  background-color: #468a20;\n",
       "  color: #f1f1f1;\n",
       "}\n",
       "#T_2f1e5_row1_col4 {\n",
       "  background-color: #f1f6e8;\n",
       "  color: #000000;\n",
       "}\n",
       "#T_2f1e5_row1_col5, #T_2f1e5_row4_col5, #T_2f1e5_row7_col5, #T_2f1e5_row33_col5, #T_2f1e5_row41_col5, #T_2f1e5_row43_col5 {\n",
       "  background-color: #fde2f0;\n",
       "  color: #000000;\n",
       "}\n",
       "#T_2f1e5_row1_col6, #T_2f1e5_row9_col6, #T_2f1e5_row19_col6, #T_2f1e5_row30_col2, #T_2f1e5_row33_col6, #T_2f1e5_row39_col6 {\n",
       "  background-color: #f5c4e1;\n",
       "  color: #000000;\n",
       "}\n",
       "#T_2f1e5_row1_col7, #T_2f1e5_row2_col7, #T_2f1e5_row3_col7, #T_2f1e5_row16_col4 {\n",
       "  background-color: #b5df82;\n",
       "  color: #000000;\n",
       "}\n",
       "#T_2f1e5_row1_col8, #T_2f1e5_row6_col8, #T_2f1e5_row11_col2, #T_2f1e5_row41_col8 {\n",
       "  background-color: #e6f5d0;\n",
       "  color: #000000;\n",
       "}\n",
       "#T_2f1e5_row2_col2 {\n",
       "  background-color: #4e9322;\n",
       "  color: #f1f1f1;\n",
       "}\n",
       "#T_2f1e5_row2_col3 {\n",
       "  background-color: #dbf0bf;\n",
       "  color: #000000;\n",
       "}\n",
       "#T_2f1e5_row2_col5 {\n",
       "  background-color: #eff6e5;\n",
       "  color: #000000;\n",
       "}\n",
       "#T_2f1e5_row2_col6 {\n",
       "  background-color: #81bd44;\n",
       "  color: #000000;\n",
       "}\n",
       "#T_2f1e5_row2_col8, #T_2f1e5_row14_col8, #T_2f1e5_row24_col2, #T_2f1e5_row28_col3, #T_2f1e5_row29_col8 {\n",
       "  background-color: #fde0ef;\n",
       "  color: #000000;\n",
       "}\n",
       "#T_2f1e5_row3_col2 {\n",
       "  background-color: #6faf37;\n",
       "  color: #f1f1f1;\n",
       "}\n",
       "#T_2f1e5_row3_col3, #T_2f1e5_row30_col5 {\n",
       "  background-color: #498d20;\n",
       "  color: #f1f1f1;\n",
       "}\n",
       "#T_2f1e5_row3_col4 {\n",
       "  background-color: #f4bfdf;\n",
       "  color: #000000;\n",
       "}\n",
       "#T_2f1e5_row3_col5, #T_2f1e5_row6_col2, #T_2f1e5_row8_col5, #T_2f1e5_row14_col6, #T_2f1e5_row48_col5 {\n",
       "  background-color: #c0e593;\n",
       "  color: #000000;\n",
       "}\n",
       "#T_2f1e5_row3_col6, #T_2f1e5_row26_col6, #T_2f1e5_row35_col6 {\n",
       "  background-color: #e89ac6;\n",
       "  color: #000000;\n",
       "}\n",
       "#T_2f1e5_row3_col8, #T_2f1e5_row5_col8, #T_2f1e5_row7_col8, #T_2f1e5_row10_col8, #T_2f1e5_row11_col4, #T_2f1e5_row15_col2, #T_2f1e5_row16_col8, #T_2f1e5_row18_col8, #T_2f1e5_row23_col8, #T_2f1e5_row24_col8, #T_2f1e5_row27_col8, #T_2f1e5_row39_col8, #T_2f1e5_row48_col8 {\n",
       "  background-color: #f7f7f6;\n",
       "  color: #000000;\n",
       "}\n",
       "#T_2f1e5_row4_col2 {\n",
       "  background-color: #95cb5c;\n",
       "  color: #000000;\n",
       "}\n",
       "#T_2f1e5_row4_col3, #T_2f1e5_row5_col2 {\n",
       "  background-color: #9acd61;\n",
       "  color: #000000;\n",
       "}\n",
       "#T_2f1e5_row4_col4, #T_2f1e5_row5_col5, #T_2f1e5_row25_col5, #T_2f1e5_row29_col5 {\n",
       "  background-color: #faedf3;\n",
       "  color: #000000;\n",
       "}\n",
       "#T_2f1e5_row4_col6, #T_2f1e5_row18_col3 {\n",
       "  background-color: #ebf6db;\n",
       "  color: #000000;\n",
       "}\n",
       "#T_2f1e5_row4_col7, #T_2f1e5_row7_col7, #T_2f1e5_row11_col3, #T_2f1e5_row13_col2, #T_2f1e5_row13_col7 {\n",
       "  background-color: #f2f6ec;\n",
       "  color: #000000;\n",
       "}\n",
       "#T_2f1e5_row4_col8, #T_2f1e5_row11_col8, #T_2f1e5_row12_col8, #T_2f1e5_row19_col8, #T_2f1e5_row21_col8, #T_2f1e5_row35_col3, #T_2f1e5_row43_col8, #T_2f1e5_row45_col8, #T_2f1e5_row49_col8 {\n",
       "  background-color: #f1b5d9;\n",
       "  color: #000000;\n",
       "}\n",
       "#T_2f1e5_row5_col3, #T_2f1e5_row18_col2, #T_2f1e5_row29_col3, #T_2f1e5_row37_col6 {\n",
       "  background-color: #f9eef4;\n",
       "  color: #000000;\n",
       "}\n",
       "#T_2f1e5_row5_col4 {\n",
       "  background-color: #306f1b;\n",
       "  color: #f1f1f1;\n",
       "}\n",
       "#T_2f1e5_row6_col3 {\n",
       "  background-color: #e1f3c7;\n",
       "  color: #000000;\n",
       "}\n",
       "#T_2f1e5_row6_col4 {\n",
       "  background-color: #f1f6ea;\n",
       "  color: #000000;\n",
       "}\n",
       "#T_2f1e5_row6_col5 {\n",
       "  background-color: #75b43b;\n",
       "  color: #f1f1f1;\n",
       "}\n",
       "#T_2f1e5_row6_col6, #T_2f1e5_row23_col6 {\n",
       "  background-color: #edf6e1;\n",
       "  color: #000000;\n",
       "}\n",
       "#T_2f1e5_row6_col7, #T_2f1e5_row26_col7, #T_2f1e5_row31_col7 {\n",
       "  background-color: #f7cce5;\n",
       "  color: #000000;\n",
       "}\n",
       "#T_2f1e5_row7_col2 {\n",
       "  background-color: #cdeaa7;\n",
       "  color: #000000;\n",
       "}\n",
       "#T_2f1e5_row7_col3, #T_2f1e5_row8_col2, #T_2f1e5_row8_col6 {\n",
       "  background-color: #cfebaa;\n",
       "  color: #000000;\n",
       "}\n",
       "#T_2f1e5_row7_col4, #T_2f1e5_row25_col6, #T_2f1e5_row44_col6 {\n",
       "  background-color: #fddeee;\n",
       "  color: #000000;\n",
       "}\n",
       "#T_2f1e5_row7_col6, #T_2f1e5_row20_col5, #T_2f1e5_row20_col6, #T_2f1e5_row23_col3, #T_2f1e5_row23_col5, #T_2f1e5_row31_col3, #T_2f1e5_row47_col5 {\n",
       "  background-color: #f9d1e8;\n",
       "  color: #000000;\n",
       "}\n",
       "#T_2f1e5_row8_col3 {\n",
       "  background-color: #eef6e2;\n",
       "  color: #000000;\n",
       "}\n",
       "#T_2f1e5_row8_col4 {\n",
       "  background-color: #ebf6dc;\n",
       "  color: #000000;\n",
       "}\n",
       "#T_2f1e5_row8_col7, #T_2f1e5_row16_col7, #T_2f1e5_row19_col7, #T_2f1e5_row21_col7, #T_2f1e5_row24_col7, #T_2f1e5_row33_col7, #T_2f1e5_row47_col7 {\n",
       "  background-color: #f0b2d7;\n",
       "  color: #000000;\n",
       "}\n",
       "#T_2f1e5_row9_col3 {\n",
       "  background-color: #dff2c4;\n",
       "  color: #000000;\n",
       "}\n",
       "#T_2f1e5_row9_col4, #T_2f1e5_row19_col4 {\n",
       "  background-color: #fbe6f1;\n",
       "  color: #000000;\n",
       "}\n",
       "#T_2f1e5_row9_col5, #T_2f1e5_row16_col6 {\n",
       "  background-color: #a7d672;\n",
       "  color: #000000;\n",
       "}\n",
       "#T_2f1e5_row9_col7, #T_2f1e5_row20_col7, #T_2f1e5_row22_col7, #T_2f1e5_row28_col7, #T_2f1e5_row29_col7, #T_2f1e5_row32_col7, #T_2f1e5_row36_col7, #T_2f1e5_row41_col7, #T_2f1e5_row43_col6, #T_2f1e5_row46_col7 {\n",
       "  background-color: #e58dbe;\n",
       "  color: #f1f1f1;\n",
       "}\n",
       "#T_2f1e5_row9_col8, #T_2f1e5_row18_col4, #T_2f1e5_row25_col8, #T_2f1e5_row28_col8, #T_2f1e5_row30_col8, #T_2f1e5_row31_col8, #T_2f1e5_row34_col8, #T_2f1e5_row37_col8, #T_2f1e5_row38_col8, #T_2f1e5_row40_col8, #T_2f1e5_row47_col8 {\n",
       "  background-color: #c41a7c;\n",
       "  color: #f1f1f1;\n",
       "}\n",
       "#T_2f1e5_row10_col2, #T_2f1e5_row10_col6 {\n",
       "  background-color: #e4f4cd;\n",
       "  color: #000000;\n",
       "}\n",
       "#T_2f1e5_row10_col3 {\n",
       "  background-color: #faebf3;\n",
       "  color: #000000;\n",
       "}\n",
       "#T_2f1e5_row10_col4 {\n",
       "  background-color: #c9e8a2;\n",
       "  color: #000000;\n",
       "}\n",
       "#T_2f1e5_row10_col5, #T_2f1e5_row19_col5, #T_2f1e5_row49_col5 {\n",
       "  background-color: #e388ba;\n",
       "  color: #f1f1f1;\n",
       "}\n",
       "#T_2f1e5_row10_col7, #T_2f1e5_row17_col7, #T_2f1e5_row25_col7, #T_2f1e5_row33_col4, #T_2f1e5_row39_col7 {\n",
       "  background-color: #d861a2;\n",
       "  color: #f1f1f1;\n",
       "}\n",
       "#T_2f1e5_row11_col5 {\n",
       "  background-color: #8fc654;\n",
       "  color: #000000;\n",
       "}\n",
       "#T_2f1e5_row11_col6, #T_2f1e5_row13_col6, #T_2f1e5_row21_col6 {\n",
       "  background-color: #fbd8eb;\n",
       "  color: #000000;\n",
       "}\n",
       "#T_2f1e5_row12_col2 {\n",
       "  background-color: #e9f5d8;\n",
       "  color: #000000;\n",
       "}\n",
       "#T_2f1e5_row12_col3 {\n",
       "  background-color: #acd977;\n",
       "  color: #000000;\n",
       "}\n",
       "#T_2f1e5_row12_col4, #T_2f1e5_row44_col2, #T_2f1e5_row46_col3 {\n",
       "  background-color: #c51d7e;\n",
       "  color: #f1f1f1;\n",
       "}\n",
       "#T_2f1e5_row12_col6, #T_2f1e5_row17_col4, #T_2f1e5_row30_col3, #T_2f1e5_row38_col2 {\n",
       "  background-color: #db6ca8;\n",
       "  color: #f1f1f1;\n",
       "}\n",
       "#T_2f1e5_row12_col7 {\n",
       "  background-color: #e8f5d5;\n",
       "  color: #000000;\n",
       "}\n",
       "#T_2f1e5_row13_col3, #T_2f1e5_row17_col3 {\n",
       "  background-color: #eff6e4;\n",
       "  color: #000000;\n",
       "}\n",
       "#T_2f1e5_row13_col4, #T_2f1e5_row33_col2 {\n",
       "  background-color: #f2badc;\n",
       "  color: #000000;\n",
       "}\n",
       "#T_2f1e5_row13_col5, #T_2f1e5_row27_col5, #T_2f1e5_row39_col3, #T_2f1e5_row39_col5, #T_2f1e5_row40_col3 {\n",
       "  background-color: #cd3a8d;\n",
       "  color: #f1f1f1;\n",
       "}\n",
       "#T_2f1e5_row14_col2, #T_2f1e5_row30_col4 {\n",
       "  background-color: #f3f6ed;\n",
       "  color: #000000;\n",
       "}\n",
       "#T_2f1e5_row14_col3, #T_2f1e5_row38_col4 {\n",
       "  background-color: #fcdbed;\n",
       "  color: #000000;\n",
       "}\n",
       "#T_2f1e5_row14_col4 {\n",
       "  background-color: #e7f5d2;\n",
       "  color: #000000;\n",
       "}\n",
       "#T_2f1e5_row14_col5, #T_2f1e5_row34_col5, #T_2f1e5_row39_col2, #T_2f1e5_row46_col5 {\n",
       "  background-color: #d965a4;\n",
       "  color: #f1f1f1;\n",
       "}\n",
       "#T_2f1e5_row14_col7, #T_2f1e5_row15_col7 {\n",
       "  background-color: #f9f0f5;\n",
       "  color: #000000;\n",
       "}\n",
       "#T_2f1e5_row15_col3 {\n",
       "  background-color: #edf6df;\n",
       "  color: #000000;\n",
       "}\n",
       "#T_2f1e5_row15_col4, #T_2f1e5_row20_col4 {\n",
       "  background-color: #e286b8;\n",
       "  color: #f1f1f1;\n",
       "}\n",
       "#T_2f1e5_row15_col5, #T_2f1e5_row21_col5 {\n",
       "  background-color: #f7f7f7;\n",
       "  color: #000000;\n",
       "}\n",
       "#T_2f1e5_row15_col6 {\n",
       "  background-color: #eeadd4;\n",
       "  color: #000000;\n",
       "}\n",
       "#T_2f1e5_row15_col8, #T_2f1e5_row16_col5, #T_2f1e5_row17_col8, #T_2f1e5_row20_col8, #T_2f1e5_row38_col5, #T_2f1e5_row44_col5, #T_2f1e5_row45_col7, #T_2f1e5_row48_col4, #T_2f1e5_row48_col6, #T_2f1e5_row49_col3, #T_2f1e5_row50_col2, #T_2f1e5_row50_col7 {\n",
       "  background-color: #8e0152;\n",
       "  color: #f1f1f1;\n",
       "}\n",
       "#T_2f1e5_row16_col2 {\n",
       "  background-color: #f8f4f6;\n",
       "  color: #000000;\n",
       "}\n",
       "#T_2f1e5_row16_col3, #T_2f1e5_row26_col4 {\n",
       "  background-color: #eda8d1;\n",
       "  color: #000000;\n",
       "}\n",
       "#T_2f1e5_row17_col2, #T_2f1e5_row20_col3 {\n",
       "  background-color: #f8f2f5;\n",
       "  color: #000000;\n",
       "}\n",
       "#T_2f1e5_row17_col6, #T_2f1e5_row31_col4, #T_2f1e5_row40_col2, #T_2f1e5_row46_col6 {\n",
       "  background-color: #d34f99;\n",
       "  color: #f1f1f1;\n",
       "}\n",
       "#T_2f1e5_row18_col5, #T_2f1e5_row22_col4, #T_2f1e5_row26_col5, #T_2f1e5_row47_col6, #T_2f1e5_row49_col6 {\n",
       "  background-color: #eba3cd;\n",
       "  color: #000000;\n",
       "}\n",
       "#T_2f1e5_row18_col6, #T_2f1e5_row36_col6, #T_2f1e5_row43_col2, #T_2f1e5_row48_col3 {\n",
       "  background-color: #c72482;\n",
       "  color: #f1f1f1;\n",
       "}\n",
       "#T_2f1e5_row18_col7 {\n",
       "  background-color: #3d7f1e;\n",
       "  color: #f1f1f1;\n",
       "}\n",
       "#T_2f1e5_row19_col2, #T_2f1e5_row22_col3 {\n",
       "  background-color: #faeaf2;\n",
       "  color: #000000;\n",
       "}\n",
       "#T_2f1e5_row19_col3, #T_2f1e5_row21_col4, #T_2f1e5_row25_col2, #T_2f1e5_row34_col3 {\n",
       "  background-color: #fad6ea;\n",
       "  color: #000000;\n",
       "}\n",
       "#T_2f1e5_row20_col2 {\n",
       "  background-color: #fbe8f2;\n",
       "  color: #000000;\n",
       "}\n",
       "#T_2f1e5_row21_col2, #T_2f1e5_row22_col2, #T_2f1e5_row27_col3 {\n",
       "  background-color: #fbe7f2;\n",
       "  color: #000000;\n",
       "}\n",
       "#T_2f1e5_row21_col3, #T_2f1e5_row37_col4 {\n",
       "  background-color: #fcdded;\n",
       "  color: #000000;\n",
       "}\n",
       "#T_2f1e5_row22_col6, #T_2f1e5_row44_col4 {\n",
       "  background-color: #f1b7da;\n",
       "  color: #000000;\n",
       "}\n",
       "#T_2f1e5_row22_col8 {\n",
       "  background-color: #7fbc41;\n",
       "  color: #000000;\n",
       "}\n",
       "#T_2f1e5_row23_col2, #T_2f1e5_row24_col3, #T_2f1e5_row25_col3 {\n",
       "  background-color: #fce5f1;\n",
       "  color: #000000;\n",
       "}\n",
       "#T_2f1e5_row23_col4 {\n",
       "  background-color: #fde1ef;\n",
       "  color: #000000;\n",
       "}\n",
       "#T_2f1e5_row23_col7, #T_2f1e5_row30_col7, #T_2f1e5_row35_col7, #T_2f1e5_row38_col6 {\n",
       "  background-color: #fce3f0;\n",
       "  color: #000000;\n",
       "}\n",
       "#T_2f1e5_row24_col4, #T_2f1e5_row36_col2 {\n",
       "  background-color: #e795c3;\n",
       "  color: #000000;\n",
       "}\n",
       "#T_2f1e5_row24_col6, #T_2f1e5_row41_col6 {\n",
       "  background-color: #e283b7;\n",
       "  color: #f1f1f1;\n",
       "}\n",
       "#T_2f1e5_row25_col4, #T_2f1e5_row32_col3 {\n",
       "  background-color: #dc70aa;\n",
       "  color: #f1f1f1;\n",
       "}\n",
       "#T_2f1e5_row26_col2 {\n",
       "  background-color: #f8d0e7;\n",
       "  color: #000000;\n",
       "}\n",
       "#T_2f1e5_row26_col3, #T_2f1e5_row27_col2 {\n",
       "  background-color: #f8cee6;\n",
       "  color: #000000;\n",
       "}\n",
       "#T_2f1e5_row27_col4 {\n",
       "  background-color: #ca2f88;\n",
       "  color: #f1f1f1;\n",
       "}\n",
       "#T_2f1e5_row27_col6, #T_2f1e5_row28_col4, #T_2f1e5_row42_col3 {\n",
       "  background-color: #d75ea1;\n",
       "  color: #f1f1f1;\n",
       "}\n",
       "#T_2f1e5_row28_col2, #T_2f1e5_row33_col3 {\n",
       "  background-color: #f7cbe4;\n",
       "  color: #000000;\n",
       "}\n",
       "#T_2f1e5_row28_col6, #T_2f1e5_row34_col6, #T_2f1e5_row45_col3, #T_2f1e5_row45_col6 {\n",
       "  background-color: #cb3289;\n",
       "  color: #f1f1f1;\n",
       "}\n",
       "#T_2f1e5_row29_col2 {\n",
       "  background-color: #f5c6e2;\n",
       "  color: #000000;\n",
       "}\n",
       "#T_2f1e5_row29_col4, #T_2f1e5_row50_col6 {\n",
       "  background-color: #9f095f;\n",
       "  color: #f1f1f1;\n",
       "}\n",
       "#T_2f1e5_row29_col6, #T_2f1e5_row47_col2 {\n",
       "  background-color: #a80d66;\n",
       "  color: #f1f1f1;\n",
       "}\n",
       "#T_2f1e5_row31_col2, #T_2f1e5_row31_col5 {\n",
       "  background-color: #f3bdde;\n",
       "  color: #000000;\n",
       "}\n",
       "#T_2f1e5_row31_col6, #T_2f1e5_row37_col3, #T_2f1e5_row40_col6, #T_2f1e5_row42_col6 {\n",
       "  background-color: #cf4191;\n",
       "  color: #f1f1f1;\n",
       "}\n",
       "#T_2f1e5_row32_col2 {\n",
       "  background-color: #f3bcdd;\n",
       "  color: #000000;\n",
       "}\n",
       "#T_2f1e5_row32_col4 {\n",
       "  background-color: #f9f1f5;\n",
       "  color: #000000;\n",
       "}\n",
       "#T_2f1e5_row32_col5, #T_2f1e5_row37_col5 {\n",
       "  background-color: #c01879;\n",
       "  color: #f1f1f1;\n",
       "}\n",
       "#T_2f1e5_row34_col2 {\n",
       "  background-color: #efb0d6;\n",
       "  color: #000000;\n",
       "}\n",
       "#T_2f1e5_row34_col4 {\n",
       "  background-color: #b91574;\n",
       "  color: #f1f1f1;\n",
       "}\n",
       "#T_2f1e5_row34_col7, #T_2f1e5_row37_col7, #T_2f1e5_row38_col7, #T_2f1e5_row41_col2, #T_2f1e5_row41_col4, #T_2f1e5_row42_col7, #T_2f1e5_row43_col7, #T_2f1e5_row48_col7, #T_2f1e5_row49_col7 {\n",
       "  background-color: #c92b86;\n",
       "  color: #f1f1f1;\n",
       "}\n",
       "#T_2f1e5_row35_col2 {\n",
       "  background-color: #eba1cb;\n",
       "  color: #000000;\n",
       "}\n",
       "#T_2f1e5_row35_col4 {\n",
       "  background-color: #d5579d;\n",
       "  color: #f1f1f1;\n",
       "}\n",
       "#T_2f1e5_row35_col5, #T_2f1e5_row50_col5 {\n",
       "  background-color: #e7f5d3;\n",
       "  color: #000000;\n",
       "}\n",
       "#T_2f1e5_row35_col8 {\n",
       "  background-color: #4c9121;\n",
       "  color: #f1f1f1;\n",
       "}\n",
       "#T_2f1e5_row36_col3 {\n",
       "  background-color: #f4c1df;\n",
       "  color: #000000;\n",
       "}\n",
       "#T_2f1e5_row36_col4, #T_2f1e5_row45_col2 {\n",
       "  background-color: #b71472;\n",
       "  color: #f1f1f1;\n",
       "}\n",
       "#T_2f1e5_row37_col2 {\n",
       "  background-color: #e590bf;\n",
       "  color: #f1f1f1;\n",
       "}\n",
       "#T_2f1e5_row38_col3 {\n",
       "  background-color: #bd1777;\n",
       "  color: #f1f1f1;\n",
       "}\n",
       "#T_2f1e5_row39_col4 {\n",
       "  background-color: #eeabd2;\n",
       "  color: #000000;\n",
       "}\n",
       "#T_2f1e5_row40_col4 {\n",
       "  background-color: #e48bbc;\n",
       "  color: #f1f1f1;\n",
       "}\n",
       "#T_2f1e5_row40_col7, #T_2f1e5_row44_col7, #T_2f1e5_row50_col3 {\n",
       "  background-color: #ae106b;\n",
       "  color: #f1f1f1;\n",
       "}\n",
       "#T_2f1e5_row41_col3 {\n",
       "  background-color: #d04493;\n",
       "  color: #f1f1f1;\n",
       "}\n",
       "#T_2f1e5_row42_col2 {\n",
       "  background-color: #c82884;\n",
       "  color: #f1f1f1;\n",
       "}\n",
       "#T_2f1e5_row42_col4 {\n",
       "  background-color: #ac0f6a;\n",
       "  color: #f1f1f1;\n",
       "}\n",
       "#T_2f1e5_row43_col3, #T_2f1e5_row43_col4 {\n",
       "  background-color: #cc368b;\n",
       "  color: #f1f1f1;\n",
       "}\n",
       "#T_2f1e5_row44_col3 {\n",
       "  background-color: #9b075c;\n",
       "  color: #f1f1f1;\n",
       "}\n",
       "#T_2f1e5_row44_col8 {\n",
       "  background-color: #b7e085;\n",
       "  color: #000000;\n",
       "}\n",
       "#T_2f1e5_row45_col4 {\n",
       "  background-color: #aa0e68;\n",
       "  color: #f1f1f1;\n",
       "}\n",
       "#T_2f1e5_row46_col2 {\n",
       "  background-color: #b1116d;\n",
       "  color: #f1f1f1;\n",
       "}\n",
       "#T_2f1e5_row46_col4 {\n",
       "  background-color: #b3126f;\n",
       "  color: #f1f1f1;\n",
       "}\n",
       "#T_2f1e5_row47_col3 {\n",
       "  background-color: #940457;\n",
       "  color: #f1f1f1;\n",
       "}\n",
       "#T_2f1e5_row47_col4 {\n",
       "  background-color: #df79b0;\n",
       "  color: #f1f1f1;\n",
       "}\n",
       "#T_2f1e5_row48_col2 {\n",
       "  background-color: #a10a61;\n",
       "  color: #f1f1f1;\n",
       "}\n",
       "#T_2f1e5_row49_col2 {\n",
       "  background-color: #920355;\n",
       "  color: #f1f1f1;\n",
       "}\n",
       "#T_2f1e5_row49_col4 {\n",
       "  background-color: #ce3d8f;\n",
       "  color: #f1f1f1;\n",
       "}\n",
       "#T_2f1e5_row50_col4 {\n",
       "  background-color: #900254;\n",
       "  color: #f1f1f1;\n",
       "}\n",
       "</style>\n",
       "<table id=\"T_2f1e5\">\n",
       "  <thead>\n",
       "    <tr>\n",
       "      <th class=\"blank level0\" >&nbsp;</th>\n",
       "      <th id=\"T_2f1e5_level0_col0\" class=\"col_heading level0 col0\" >Player</th>\n",
       "      <th id=\"T_2f1e5_level0_col1\" class=\"col_heading level0 col1\" >Tm</th>\n",
       "      <th id=\"T_2f1e5_level0_col2\" class=\"col_heading level0 col2\" >Total_Yds</th>\n",
       "      <th id=\"T_2f1e5_level0_col3\" class=\"col_heading level0 col3\" >Rush_Yds</th>\n",
       "      <th id=\"T_2f1e5_level0_col4\" class=\"col_heading level0 col4\" >Rec_Yds</th>\n",
       "      <th id=\"T_2f1e5_level0_col5\" class=\"col_heading level0 col5\" >Yds/Rush</th>\n",
       "      <th id=\"T_2f1e5_level0_col6\" class=\"col_heading level0 col6\" >Receptions/G</th>\n",
       "      <th id=\"T_2f1e5_level0_col7\" class=\"col_heading level0 col7\" >Total_TDs</th>\n",
       "      <th id=\"T_2f1e5_level0_col8\" class=\"col_heading level0 col8\" >Age</th>\n",
       "    </tr>\n",
       "  </thead>\n",
       "  <tbody>\n",
       "    <tr>\n",
       "      <th id=\"T_2f1e5_level0_row0\" class=\"row_heading level0 row0\" >0</th>\n",
       "      <td id=\"T_2f1e5_row0_col0\" class=\"data row0 col0\" >Josh Jacobs</td>\n",
       "      <td id=\"T_2f1e5_row0_col1\" class=\"data row0 col1\" >LVR</td>\n",
       "      <td id=\"T_2f1e5_row0_col2\" class=\"data row0 col2\" >2053.000000</td>\n",
       "      <td id=\"T_2f1e5_row0_col3\" class=\"data row0 col3\" >1653</td>\n",
       "      <td id=\"T_2f1e5_row0_col4\" class=\"data row0 col4\" >400.000000</td>\n",
       "      <td id=\"T_2f1e5_row0_col5\" class=\"data row0 col5\" >4.900000</td>\n",
       "      <td id=\"T_2f1e5_row0_col6\" class=\"data row0 col6\" >3.100000</td>\n",
       "      <td id=\"T_2f1e5_row0_col7\" class=\"data row0 col7\" >12.000000</td>\n",
       "      <td id=\"T_2f1e5_row0_col8\" class=\"data row0 col8\" >24</td>\n",
       "    </tr>\n",
       "    <tr>\n",
       "      <th id=\"T_2f1e5_level0_row1\" class=\"row_heading level0 row1\" >1</th>\n",
       "      <td id=\"T_2f1e5_row1_col0\" class=\"data row1 col0\" >Derrick Henry</td>\n",
       "      <td id=\"T_2f1e5_row1_col1\" class=\"data row1 col1\" >TEN</td>\n",
       "      <td id=\"T_2f1e5_row1_col2\" class=\"data row1 col2\" >1936.000000</td>\n",
       "      <td id=\"T_2f1e5_row1_col3\" class=\"data row1 col3\" >1538</td>\n",
       "      <td id=\"T_2f1e5_row1_col4\" class=\"data row1 col4\" >398.000000</td>\n",
       "      <td id=\"T_2f1e5_row1_col5\" class=\"data row1 col5\" >4.400000</td>\n",
       "      <td id=\"T_2f1e5_row1_col6\" class=\"data row1 col6\" >2.100000</td>\n",
       "      <td id=\"T_2f1e5_row1_col7\" class=\"data row1 col7\" >13.000000</td>\n",
       "      <td id=\"T_2f1e5_row1_col8\" class=\"data row1 col8\" >28</td>\n",
       "    </tr>\n",
       "    <tr>\n",
       "      <th id=\"T_2f1e5_level0_row2\" class=\"row_heading level0 row2\" >2</th>\n",
       "      <td id=\"T_2f1e5_row2_col0\" class=\"data row2 col0\" >Christian McCaffrey</td>\n",
       "      <td id=\"T_2f1e5_row2_col1\" class=\"data row2 col1\" >2TM</td>\n",
       "      <td id=\"T_2f1e5_row2_col2\" class=\"data row2 col2\" >1880.000000</td>\n",
       "      <td id=\"T_2f1e5_row2_col3\" class=\"data row2 col3\" >1139</td>\n",
       "      <td id=\"T_2f1e5_row2_col4\" class=\"data row2 col4\" >741.000000</td>\n",
       "      <td id=\"T_2f1e5_row2_col5\" class=\"data row2 col5\" >4.700000</td>\n",
       "      <td id=\"T_2f1e5_row2_col6\" class=\"data row2 col6\" >5.000000</td>\n",
       "      <td id=\"T_2f1e5_row2_col7\" class=\"data row2 col7\" >13.000000</td>\n",
       "      <td id=\"T_2f1e5_row2_col8\" class=\"data row2 col8\" >26</td>\n",
       "    </tr>\n",
       "    <tr>\n",
       "      <th id=\"T_2f1e5_level0_row3\" class=\"row_heading level0 row3\" >3</th>\n",
       "      <td id=\"T_2f1e5_row3_col0\" class=\"data row3 col0\" >Nick Chubb</td>\n",
       "      <td id=\"T_2f1e5_row3_col1\" class=\"data row3 col1\" >CLE</td>\n",
       "      <td id=\"T_2f1e5_row3_col2\" class=\"data row3 col2\" >1764.000000</td>\n",
       "      <td id=\"T_2f1e5_row3_col3\" class=\"data row3 col3\" >1525</td>\n",
       "      <td id=\"T_2f1e5_row3_col4\" class=\"data row3 col4\" >239.000000</td>\n",
       "      <td id=\"T_2f1e5_row3_col5\" class=\"data row3 col5\" >5.000000</td>\n",
       "      <td id=\"T_2f1e5_row3_col6\" class=\"data row3 col6\" >1.600000</td>\n",
       "      <td id=\"T_2f1e5_row3_col7\" class=\"data row3 col7\" >13.000000</td>\n",
       "      <td id=\"T_2f1e5_row3_col8\" class=\"data row3 col8\" >27</td>\n",
       "    </tr>\n",
       "    <tr>\n",
       "      <th id=\"T_2f1e5_level0_row4\" class=\"row_heading level0 row4\" >4</th>\n",
       "      <td id=\"T_2f1e5_row4_col0\" class=\"data row4 col0\" >Saquon Barkley</td>\n",
       "      <td id=\"T_2f1e5_row4_col1\" class=\"data row4 col1\" >NYG</td>\n",
       "      <td id=\"T_2f1e5_row4_col2\" class=\"data row4 col2\" >1650.000000</td>\n",
       "      <td id=\"T_2f1e5_row4_col3\" class=\"data row4 col3\" >1312</td>\n",
       "      <td id=\"T_2f1e5_row4_col4\" class=\"data row4 col4\" >338.000000</td>\n",
       "      <td id=\"T_2f1e5_row4_col5\" class=\"data row4 col5\" >4.400000</td>\n",
       "      <td id=\"T_2f1e5_row4_col6\" class=\"data row4 col6\" >3.600000</td>\n",
       "      <td id=\"T_2f1e5_row4_col7\" class=\"data row4 col7\" >10.000000</td>\n",
       "      <td id=\"T_2f1e5_row4_col8\" class=\"data row4 col8\" >25</td>\n",
       "    </tr>\n",
       "    <tr>\n",
       "      <th id=\"T_2f1e5_level0_row5\" class=\"row_heading level0 row5\" >5</th>\n",
       "      <td id=\"T_2f1e5_row5_col0\" class=\"data row5 col0\" >Austin Ekeler</td>\n",
       "      <td id=\"T_2f1e5_row5_col1\" class=\"data row5 col1\" >LAC</td>\n",
       "      <td id=\"T_2f1e5_row5_col2\" class=\"data row5 col2\" >1637.000000</td>\n",
       "      <td id=\"T_2f1e5_row5_col3\" class=\"data row5 col3\" >915</td>\n",
       "      <td id=\"T_2f1e5_row5_col4\" class=\"data row5 col4\" >722.000000</td>\n",
       "      <td id=\"T_2f1e5_row5_col5\" class=\"data row5 col5\" >4.500000</td>\n",
       "      <td id=\"T_2f1e5_row5_col6\" class=\"data row5 col6\" >6.300000</td>\n",
       "      <td id=\"T_2f1e5_row5_col7\" class=\"data row5 col7\" >18.000000</td>\n",
       "      <td id=\"T_2f1e5_row5_col8\" class=\"data row5 col8\" >27</td>\n",
       "    </tr>\n",
       "    <tr>\n",
       "      <th id=\"T_2f1e5_level0_row6\" class=\"row_heading level0 row6\" >6</th>\n",
       "      <td id=\"T_2f1e5_row6_col0\" class=\"data row6 col0\" >Aaron Jones</td>\n",
       "      <td id=\"T_2f1e5_row6_col1\" class=\"data row6 col1\" >GNB</td>\n",
       "      <td id=\"T_2f1e5_row6_col2\" class=\"data row6 col2\" >1516.000000</td>\n",
       "      <td id=\"T_2f1e5_row6_col3\" class=\"data row6 col3\" >1121</td>\n",
       "      <td id=\"T_2f1e5_row6_col4\" class=\"data row6 col4\" >395.000000</td>\n",
       "      <td id=\"T_2f1e5_row6_col5\" class=\"data row6 col5\" >5.300000</td>\n",
       "      <td id=\"T_2f1e5_row6_col6\" class=\"data row6 col6\" >3.500000</td>\n",
       "      <td id=\"T_2f1e5_row6_col7\" class=\"data row6 col7\" >7.000000</td>\n",
       "      <td id=\"T_2f1e5_row6_col8\" class=\"data row6 col8\" >28</td>\n",
       "    </tr>\n",
       "    <tr>\n",
       "      <th id=\"T_2f1e5_level0_row7\" class=\"row_heading level0 row7\" >7</th>\n",
       "      <td id=\"T_2f1e5_row7_col0\" class=\"data row7 col0\" >Dalvin Cook</td>\n",
       "      <td id=\"T_2f1e5_row7_col1\" class=\"data row7 col1\" >MIN</td>\n",
       "      <td id=\"T_2f1e5_row7_col2\" class=\"data row7 col2\" >1468.000000</td>\n",
       "      <td id=\"T_2f1e5_row7_col3\" class=\"data row7 col3\" >1173</td>\n",
       "      <td id=\"T_2f1e5_row7_col4\" class=\"data row7 col4\" >295.000000</td>\n",
       "      <td id=\"T_2f1e5_row7_col5\" class=\"data row7 col5\" >4.400000</td>\n",
       "      <td id=\"T_2f1e5_row7_col6\" class=\"data row7 col6\" >2.300000</td>\n",
       "      <td id=\"T_2f1e5_row7_col7\" class=\"data row7 col7\" >10.000000</td>\n",
       "      <td id=\"T_2f1e5_row7_col8\" class=\"data row7 col8\" >27</td>\n",
       "    </tr>\n",
       "    <tr>\n",
       "      <th id=\"T_2f1e5_level0_row8\" class=\"row_heading level0 row8\" >8</th>\n",
       "      <td id=\"T_2f1e5_row8_col0\" class=\"data row8 col0\" >Rhamondre Stevenson</td>\n",
       "      <td id=\"T_2f1e5_row8_col1\" class=\"data row8 col1\" >NWE</td>\n",
       "      <td id=\"T_2f1e5_row8_col2\" class=\"data row8 col2\" >1461.000000</td>\n",
       "      <td id=\"T_2f1e5_row8_col3\" class=\"data row8 col3\" >1040</td>\n",
       "      <td id=\"T_2f1e5_row8_col4\" class=\"data row8 col4\" >421.000000</td>\n",
       "      <td id=\"T_2f1e5_row8_col5\" class=\"data row8 col5\" >5.000000</td>\n",
       "      <td id=\"T_2f1e5_row8_col6\" class=\"data row8 col6\" >4.100000</td>\n",
       "      <td id=\"T_2f1e5_row8_col7\" class=\"data row8 col7\" >6.000000</td>\n",
       "      <td id=\"T_2f1e5_row8_col8\" class=\"data row8 col8\" >24</td>\n",
       "    </tr>\n",
       "    <tr>\n",
       "      <th id=\"T_2f1e5_level0_row9\" class=\"row_heading level0 row9\" >9</th>\n",
       "      <td id=\"T_2f1e5_row9_col0\" class=\"data row9 col0\" >Travis Etienne</td>\n",
       "      <td id=\"T_2f1e5_row9_col1\" class=\"data row9 col1\" >JAX</td>\n",
       "      <td id=\"T_2f1e5_row9_col2\" class=\"data row9 col2\" >1441.000000</td>\n",
       "      <td id=\"T_2f1e5_row9_col3\" class=\"data row9 col3\" >1125</td>\n",
       "      <td id=\"T_2f1e5_row9_col4\" class=\"data row9 col4\" >316.000000</td>\n",
       "      <td id=\"T_2f1e5_row9_col5\" class=\"data row9 col5\" >5.100000</td>\n",
       "      <td id=\"T_2f1e5_row9_col6\" class=\"data row9 col6\" >2.100000</td>\n",
       "      <td id=\"T_2f1e5_row9_col7\" class=\"data row9 col7\" >5.000000</td>\n",
       "      <td id=\"T_2f1e5_row9_col8\" class=\"data row9 col8\" >23</td>\n",
       "    </tr>\n",
       "    <tr>\n",
       "      <th id=\"T_2f1e5_level0_row10\" class=\"row_heading level0 row10\" >10</th>\n",
       "      <td id=\"T_2f1e5_row10_col0\" class=\"data row10 col0\" >Alvin Kamara</td>\n",
       "      <td id=\"T_2f1e5_row10_col1\" class=\"data row10 col1\" >NOR</td>\n",
       "      <td id=\"T_2f1e5_row10_col2\" class=\"data row10 col2\" >1387.000000</td>\n",
       "      <td id=\"T_2f1e5_row10_col3\" class=\"data row10 col3\" >897</td>\n",
       "      <td id=\"T_2f1e5_row10_col4\" class=\"data row10 col4\" >490.000000</td>\n",
       "      <td id=\"T_2f1e5_row10_col5\" class=\"data row10 col5\" >4.000000</td>\n",
       "      <td id=\"T_2f1e5_row10_col6\" class=\"data row10 col6\" >3.800000</td>\n",
       "      <td id=\"T_2f1e5_row10_col7\" class=\"data row10 col7\" >4.000000</td>\n",
       "      <td id=\"T_2f1e5_row10_col8\" class=\"data row10 col8\" >27</td>\n",
       "    </tr>\n",
       "    <tr>\n",
       "      <th id=\"T_2f1e5_level0_row11\" class=\"row_heading level0 row11\" >11</th>\n",
       "      <td id=\"T_2f1e5_row11_col0\" class=\"data row11 col0\" >Tony Pollard</td>\n",
       "      <td id=\"T_2f1e5_row11_col1\" class=\"data row11 col1\" >DAL</td>\n",
       "      <td id=\"T_2f1e5_row11_col2\" class=\"data row11 col2\" >1378.000000</td>\n",
       "      <td id=\"T_2f1e5_row11_col3\" class=\"data row11 col3\" >1007</td>\n",
       "      <td id=\"T_2f1e5_row11_col4\" class=\"data row11 col4\" >371.000000</td>\n",
       "      <td id=\"T_2f1e5_row11_col5\" class=\"data row11 col5\" >5.200000</td>\n",
       "      <td id=\"T_2f1e5_row11_col6\" class=\"data row11 col6\" >2.400000</td>\n",
       "      <td id=\"T_2f1e5_row11_col7\" class=\"data row11 col7\" >12.000000</td>\n",
       "      <td id=\"T_2f1e5_row11_col8\" class=\"data row11 col8\" >25</td>\n",
       "    </tr>\n",
       "    <tr>\n",
       "      <th id=\"T_2f1e5_level0_row12\" class=\"row_heading level0 row12\" >12</th>\n",
       "      <td id=\"T_2f1e5_row12_col0\" class=\"data row12 col0\" >Miles Sanders</td>\n",
       "      <td id=\"T_2f1e5_row12_col1\" class=\"data row12 col1\" >PHI</td>\n",
       "      <td id=\"T_2f1e5_row12_col2\" class=\"data row12 col2\" >1347.000000</td>\n",
       "      <td id=\"T_2f1e5_row12_col3\" class=\"data row12 col3\" >1269</td>\n",
       "      <td id=\"T_2f1e5_row12_col4\" class=\"data row12 col4\" >78.000000</td>\n",
       "      <td id=\"T_2f1e5_row12_col5\" class=\"data row12 col5\" >4.900000</td>\n",
       "      <td id=\"T_2f1e5_row12_col6\" class=\"data row12 col6\" >1.200000</td>\n",
       "      <td id=\"T_2f1e5_row12_col7\" class=\"data row12 col7\" >11.000000</td>\n",
       "      <td id=\"T_2f1e5_row12_col8\" class=\"data row12 col8\" >25</td>\n",
       "    </tr>\n",
       "    <tr>\n",
       "      <th id=\"T_2f1e5_level0_row13\" class=\"row_heading level0 row13\" >13</th>\n",
       "      <td id=\"T_2f1e5_row13_col0\" class=\"data row13 col0\" >Najee Harris</td>\n",
       "      <td id=\"T_2f1e5_row13_col1\" class=\"data row13 col1\" >PIT</td>\n",
       "      <td id=\"T_2f1e5_row13_col2\" class=\"data row13 col2\" >1263.000000</td>\n",
       "      <td id=\"T_2f1e5_row13_col3\" class=\"data row13 col3\" >1034</td>\n",
       "      <td id=\"T_2f1e5_row13_col4\" class=\"data row13 col4\" >229.000000</td>\n",
       "      <td id=\"T_2f1e5_row13_col5\" class=\"data row13 col5\" >3.800000</td>\n",
       "      <td id=\"T_2f1e5_row13_col6\" class=\"data row13 col6\" >2.400000</td>\n",
       "      <td id=\"T_2f1e5_row13_col7\" class=\"data row13 col7\" >10.000000</td>\n",
       "      <td id=\"T_2f1e5_row13_col8\" class=\"data row13 col8\" >24</td>\n",
       "    </tr>\n",
       "    <tr>\n",
       "      <th id=\"T_2f1e5_level0_row14\" class=\"row_heading level0 row14\" >14</th>\n",
       "      <td id=\"T_2f1e5_row14_col0\" class=\"data row14 col0\" >Joe Mixon</td>\n",
       "      <td id=\"T_2f1e5_row14_col1\" class=\"data row14 col1\" >CIN</td>\n",
       "      <td id=\"T_2f1e5_row14_col2\" class=\"data row14 col2\" >1255.000000</td>\n",
       "      <td id=\"T_2f1e5_row14_col3\" class=\"data row14 col3\" >814</td>\n",
       "      <td id=\"T_2f1e5_row14_col4\" class=\"data row14 col4\" >441.000000</td>\n",
       "      <td id=\"T_2f1e5_row14_col5\" class=\"data row14 col5\" >3.900000</td>\n",
       "      <td id=\"T_2f1e5_row14_col6\" class=\"data row14 col6\" >4.300000</td>\n",
       "      <td id=\"T_2f1e5_row14_col7\" class=\"data row14 col7\" >9.000000</td>\n",
       "      <td id=\"T_2f1e5_row14_col8\" class=\"data row14 col8\" >26</td>\n",
       "    </tr>\n",
       "    <tr>\n",
       "      <th id=\"T_2f1e5_level0_row15\" class=\"row_heading level0 row15\" >15</th>\n",
       "      <td id=\"T_2f1e5_row15_col0\" class=\"data row15 col0\" >Kenneth Walker III</td>\n",
       "      <td id=\"T_2f1e5_row15_col1\" class=\"data row15 col1\" >SEA</td>\n",
       "      <td id=\"T_2f1e5_row15_col2\" class=\"data row15 col2\" >1215.000000</td>\n",
       "      <td id=\"T_2f1e5_row15_col3\" class=\"data row15 col3\" >1050</td>\n",
       "      <td id=\"T_2f1e5_row15_col4\" class=\"data row15 col4\" >165.000000</td>\n",
       "      <td id=\"T_2f1e5_row15_col5\" class=\"data row15 col5\" >4.600000</td>\n",
       "      <td id=\"T_2f1e5_row15_col6\" class=\"data row15 col6\" >1.800000</td>\n",
       "      <td id=\"T_2f1e5_row15_col7\" class=\"data row15 col7\" >9.000000</td>\n",
       "      <td id=\"T_2f1e5_row15_col8\" class=\"data row15 col8\" >22</td>\n",
       "    </tr>\n",
       "    <tr>\n",
       "      <th id=\"T_2f1e5_level0_row16\" class=\"row_heading level0 row16\" >16</th>\n",
       "      <td id=\"T_2f1e5_row16_col0\" class=\"data row16 col0\" >Leonard Fournette</td>\n",
       "      <td id=\"T_2f1e5_row16_col1\" class=\"data row16 col1\" >TAM</td>\n",
       "      <td id=\"T_2f1e5_row16_col2\" class=\"data row16 col2\" >1191.000000</td>\n",
       "      <td id=\"T_2f1e5_row16_col3\" class=\"data row16 col3\" >668</td>\n",
       "      <td id=\"T_2f1e5_row16_col4\" class=\"data row16 col4\" >523.000000</td>\n",
       "      <td id=\"T_2f1e5_row16_col5\" class=\"data row16 col5\" >3.500000</td>\n",
       "      <td id=\"T_2f1e5_row16_col6\" class=\"data row16 col6\" >4.600000</td>\n",
       "      <td id=\"T_2f1e5_row16_col7\" class=\"data row16 col7\" >6.000000</td>\n",
       "      <td id=\"T_2f1e5_row16_col8\" class=\"data row16 col8\" >27</td>\n",
       "    </tr>\n",
       "    <tr>\n",
       "      <th id=\"T_2f1e5_level0_row17\" class=\"row_heading level0 row17\" >17</th>\n",
       "      <td id=\"T_2f1e5_row17_col0\" class=\"data row17 col0\" >Tyler Allgeier</td>\n",
       "      <td id=\"T_2f1e5_row17_col1\" class=\"data row17 col1\" >ATL</td>\n",
       "      <td id=\"T_2f1e5_row17_col2\" class=\"data row17 col2\" >1174.000000</td>\n",
       "      <td id=\"T_2f1e5_row17_col3\" class=\"data row17 col3\" >1035</td>\n",
       "      <td id=\"T_2f1e5_row17_col4\" class=\"data row17 col4\" >139.000000</td>\n",
       "      <td id=\"T_2f1e5_row17_col5\" class=\"data row17 col5\" >4.900000</td>\n",
       "      <td id=\"T_2f1e5_row17_col6\" class=\"data row17 col6\" >1.000000</td>\n",
       "      <td id=\"T_2f1e5_row17_col7\" class=\"data row17 col7\" >4.000000</td>\n",
       "      <td id=\"T_2f1e5_row17_col8\" class=\"data row17 col8\" >22</td>\n",
       "    </tr>\n",
       "    <tr>\n",
       "      <th id=\"T_2f1e5_level0_row18\" class=\"row_heading level0 row18\" >18</th>\n",
       "      <td id=\"T_2f1e5_row18_col0\" class=\"data row18 col0\" >Jamaal Williams</td>\n",
       "      <td id=\"T_2f1e5_row18_col1\" class=\"data row18 col1\" >DET</td>\n",
       "      <td id=\"T_2f1e5_row18_col2\" class=\"data row18 col2\" >1139.000000</td>\n",
       "      <td id=\"T_2f1e5_row18_col3\" class=\"data row18 col3\" >1066</td>\n",
       "      <td id=\"T_2f1e5_row18_col4\" class=\"data row18 col4\" >73.000000</td>\n",
       "      <td id=\"T_2f1e5_row18_col5\" class=\"data row18 col5\" >4.100000</td>\n",
       "      <td id=\"T_2f1e5_row18_col6\" class=\"data row18 col6\" >0.700000</td>\n",
       "      <td id=\"T_2f1e5_row18_col7\" class=\"data row18 col7\" >17.000000</td>\n",
       "      <td id=\"T_2f1e5_row18_col8\" class=\"data row18 col8\" >27</td>\n",
       "    </tr>\n",
       "    <tr>\n",
       "      <th id=\"T_2f1e5_level0_row19\" class=\"row_heading level0 row19\" >19</th>\n",
       "      <td id=\"T_2f1e5_row19_col0\" class=\"data row19 col0\" >David Montgomery</td>\n",
       "      <td id=\"T_2f1e5_row19_col1\" class=\"data row19 col1\" >CHI</td>\n",
       "      <td id=\"T_2f1e5_row19_col2\" class=\"data row19 col2\" >1117.000000</td>\n",
       "      <td id=\"T_2f1e5_row19_col3\" class=\"data row19 col3\" >801</td>\n",
       "      <td id=\"T_2f1e5_row19_col4\" class=\"data row19 col4\" >316.000000</td>\n",
       "      <td id=\"T_2f1e5_row19_col5\" class=\"data row19 col5\" >4.000000</td>\n",
       "      <td id=\"T_2f1e5_row19_col6\" class=\"data row19 col6\" >2.100000</td>\n",
       "      <td id=\"T_2f1e5_row19_col7\" class=\"data row19 col7\" >6.000000</td>\n",
       "      <td id=\"T_2f1e5_row19_col8\" class=\"data row19 col8\" >25</td>\n",
       "    </tr>\n",
       "    <tr>\n",
       "      <th id=\"T_2f1e5_level0_row20\" class=\"row_heading level0 row20\" >20</th>\n",
       "      <td id=\"T_2f1e5_row20_col0\" class=\"data row20 col0\" >Dameon Pierce</td>\n",
       "      <td id=\"T_2f1e5_row20_col1\" class=\"data row20 col1\" >HOU</td>\n",
       "      <td id=\"T_2f1e5_row20_col2\" class=\"data row20 col2\" >1104.000000</td>\n",
       "      <td id=\"T_2f1e5_row20_col3\" class=\"data row20 col3\" >939</td>\n",
       "      <td id=\"T_2f1e5_row20_col4\" class=\"data row20 col4\" >165.000000</td>\n",
       "      <td id=\"T_2f1e5_row20_col5\" class=\"data row20 col5\" >4.300000</td>\n",
       "      <td id=\"T_2f1e5_row20_col6\" class=\"data row20 col6\" >2.300000</td>\n",
       "      <td id=\"T_2f1e5_row20_col7\" class=\"data row20 col7\" >5.000000</td>\n",
       "      <td id=\"T_2f1e5_row20_col8\" class=\"data row20 col8\" >22</td>\n",
       "    </tr>\n",
       "    <tr>\n",
       "      <th id=\"T_2f1e5_level0_row21\" class=\"row_heading level0 row21\" >21</th>\n",
       "      <td id=\"T_2f1e5_row21_col0\" class=\"data row21 col0\" >Devin Singletary</td>\n",
       "      <td id=\"T_2f1e5_row21_col1\" class=\"data row21 col1\" >BUF</td>\n",
       "      <td id=\"T_2f1e5_row21_col2\" class=\"data row21 col2\" >1099.000000</td>\n",
       "      <td id=\"T_2f1e5_row21_col3\" class=\"data row21 col3\" >819</td>\n",
       "      <td id=\"T_2f1e5_row21_col4\" class=\"data row21 col4\" >280.000000</td>\n",
       "      <td id=\"T_2f1e5_row21_col5\" class=\"data row21 col5\" >4.600000</td>\n",
       "      <td id=\"T_2f1e5_row21_col6\" class=\"data row21 col6\" >2.400000</td>\n",
       "      <td id=\"T_2f1e5_row21_col7\" class=\"data row21 col7\" >6.000000</td>\n",
       "      <td id=\"T_2f1e5_row21_col8\" class=\"data row21 col8\" >25</td>\n",
       "    </tr>\n",
       "    <tr>\n",
       "      <th id=\"T_2f1e5_level0_row22\" class=\"row_heading level0 row22\" >22</th>\n",
       "      <td id=\"T_2f1e5_row22_col0\" class=\"data row22 col0\" >Raheem Mostert</td>\n",
       "      <td id=\"T_2f1e5_row22_col1\" class=\"data row22 col1\" >MIA</td>\n",
       "      <td id=\"T_2f1e5_row22_col2\" class=\"data row22 col2\" >1093.000000</td>\n",
       "      <td id=\"T_2f1e5_row22_col3\" class=\"data row22 col3\" >891</td>\n",
       "      <td id=\"T_2f1e5_row22_col4\" class=\"data row22 col4\" >202.000000</td>\n",
       "      <td id=\"T_2f1e5_row22_col5\" class=\"data row22 col5\" >4.900000</td>\n",
       "      <td id=\"T_2f1e5_row22_col6\" class=\"data row22 col6\" >1.900000</td>\n",
       "      <td id=\"T_2f1e5_row22_col7\" class=\"data row22 col7\" >5.000000</td>\n",
       "      <td id=\"T_2f1e5_row22_col8\" class=\"data row22 col8\" >30</td>\n",
       "    </tr>\n",
       "    <tr>\n",
       "      <th id=\"T_2f1e5_level0_row23\" class=\"row_heading level0 row23\" >23</th>\n",
       "      <td id=\"T_2f1e5_row23_col0\" class=\"data row23 col0\" >James Conner</td>\n",
       "      <td id=\"T_2f1e5_row23_col1\" class=\"data row23 col1\" >ARI</td>\n",
       "      <td id=\"T_2f1e5_row23_col2\" class=\"data row23 col2\" >1082.000000</td>\n",
       "      <td id=\"T_2f1e5_row23_col3\" class=\"data row23 col3\" >782</td>\n",
       "      <td id=\"T_2f1e5_row23_col4\" class=\"data row23 col4\" >300.000000</td>\n",
       "      <td id=\"T_2f1e5_row23_col5\" class=\"data row23 col5\" >4.300000</td>\n",
       "      <td id=\"T_2f1e5_row23_col6\" class=\"data row23 col6\" >3.500000</td>\n",
       "      <td id=\"T_2f1e5_row23_col7\" class=\"data row23 col7\" >8.000000</td>\n",
       "      <td id=\"T_2f1e5_row23_col8\" class=\"data row23 col8\" >27</td>\n",
       "    </tr>\n",
       "    <tr>\n",
       "      <th id=\"T_2f1e5_level0_row24\" class=\"row_heading level0 row24\" >24</th>\n",
       "      <td id=\"T_2f1e5_row24_col0\" class=\"data row24 col0\" >Jeff Wilson</td>\n",
       "      <td id=\"T_2f1e5_row24_col1\" class=\"data row24 col1\" >2TM</td>\n",
       "      <td id=\"T_2f1e5_row24_col2\" class=\"data row24 col2\" >1045.000000</td>\n",
       "      <td id=\"T_2f1e5_row24_col3\" class=\"data row24 col3\" >860</td>\n",
       "      <td id=\"T_2f1e5_row24_col4\" class=\"data row24 col4\" >185.000000</td>\n",
       "      <td id=\"T_2f1e5_row24_col5\" class=\"data row24 col5\" >4.900000</td>\n",
       "      <td id=\"T_2f1e5_row24_col6\" class=\"data row24 col6\" >1.400000</td>\n",
       "      <td id=\"T_2f1e5_row24_col7\" class=\"data row24 col7\" >6.000000</td>\n",
       "      <td id=\"T_2f1e5_row24_col8\" class=\"data row24 col8\" >27</td>\n",
       "    </tr>\n",
       "    <tr>\n",
       "      <th id=\"T_2f1e5_level0_row25\" class=\"row_heading level0 row25\" >25</th>\n",
       "      <td id=\"T_2f1e5_row25_col0\" class=\"data row25 col0\" >Jonathan Taylor</td>\n",
       "      <td id=\"T_2f1e5_row25_col1\" class=\"data row25 col1\" >IND</td>\n",
       "      <td id=\"T_2f1e5_row25_col2\" class=\"data row25 col2\" >1004.000000</td>\n",
       "      <td id=\"T_2f1e5_row25_col3\" class=\"data row25 col3\" >861</td>\n",
       "      <td id=\"T_2f1e5_row25_col4\" class=\"data row25 col4\" >143.000000</td>\n",
       "      <td id=\"T_2f1e5_row25_col5\" class=\"data row25 col5\" >4.500000</td>\n",
       "      <td id=\"T_2f1e5_row25_col6\" class=\"data row25 col6\" >2.500000</td>\n",
       "      <td id=\"T_2f1e5_row25_col7\" class=\"data row25 col7\" >4.000000</td>\n",
       "      <td id=\"T_2f1e5_row25_col8\" class=\"data row25 col8\" >23</td>\n",
       "    </tr>\n",
       "    <tr>\n",
       "      <th id=\"T_2f1e5_level0_row26\" class=\"row_heading level0 row26\" >26</th>\n",
       "      <td id=\"T_2f1e5_row26_col0\" class=\"data row26 col0\" >AJ Dillon</td>\n",
       "      <td id=\"T_2f1e5_row26_col1\" class=\"data row26 col1\" >GNB</td>\n",
       "      <td id=\"T_2f1e5_row26_col2\" class=\"data row26 col2\" >976.000000</td>\n",
       "      <td id=\"T_2f1e5_row26_col3\" class=\"data row26 col3\" >770</td>\n",
       "      <td id=\"T_2f1e5_row26_col4\" class=\"data row26 col4\" >206.000000</td>\n",
       "      <td id=\"T_2f1e5_row26_col5\" class=\"data row26 col5\" >4.100000</td>\n",
       "      <td id=\"T_2f1e5_row26_col6\" class=\"data row26 col6\" >1.600000</td>\n",
       "      <td id=\"T_2f1e5_row26_col7\" class=\"data row26 col7\" >7.000000</td>\n",
       "      <td id=\"T_2f1e5_row26_col8\" class=\"data row26 col8\" >24</td>\n",
       "    </tr>\n",
       "    <tr>\n",
       "      <th id=\"T_2f1e5_level0_row27\" class=\"row_heading level0 row27\" >27</th>\n",
       "      <td id=\"T_2f1e5_row27_col0\" class=\"data row27 col0\" >Ezekiel Elliott</td>\n",
       "      <td id=\"T_2f1e5_row27_col1\" class=\"data row27 col1\" >DAL</td>\n",
       "      <td id=\"T_2f1e5_row27_col2\" class=\"data row27 col2\" >968.000000</td>\n",
       "      <td id=\"T_2f1e5_row27_col3\" class=\"data row27 col3\" >876</td>\n",
       "      <td id=\"T_2f1e5_row27_col4\" class=\"data row27 col4\" >92.000000</td>\n",
       "      <td id=\"T_2f1e5_row27_col5\" class=\"data row27 col5\" >3.800000</td>\n",
       "      <td id=\"T_2f1e5_row27_col6\" class=\"data row27 col6\" >1.100000</td>\n",
       "      <td id=\"T_2f1e5_row27_col7\" class=\"data row27 col7\" >12.000000</td>\n",
       "      <td id=\"T_2f1e5_row27_col8\" class=\"data row27 col8\" >27</td>\n",
       "    </tr>\n",
       "    <tr>\n",
       "      <th id=\"T_2f1e5_level0_row28\" class=\"row_heading level0 row28\" >28</th>\n",
       "      <td id=\"T_2f1e5_row28_col0\" class=\"data row28 col0\" >Isiah Pacheco</td>\n",
       "      <td id=\"T_2f1e5_row28_col1\" class=\"data row28 col1\" >KAN</td>\n",
       "      <td id=\"T_2f1e5_row28_col2\" class=\"data row28 col2\" >960.000000</td>\n",
       "      <td id=\"T_2f1e5_row28_col3\" class=\"data row28 col3\" >830</td>\n",
       "      <td id=\"T_2f1e5_row28_col4\" class=\"data row28 col4\" >130.000000</td>\n",
       "      <td id=\"T_2f1e5_row28_col5\" class=\"data row28 col5\" >4.900000</td>\n",
       "      <td id=\"T_2f1e5_row28_col6\" class=\"data row28 col6\" >0.800000</td>\n",
       "      <td id=\"T_2f1e5_row28_col7\" class=\"data row28 col7\" >5.000000</td>\n",
       "      <td id=\"T_2f1e5_row28_col8\" class=\"data row28 col8\" >23</td>\n",
       "    </tr>\n",
       "    <tr>\n",
       "      <th id=\"T_2f1e5_level0_row29\" class=\"row_heading level0 row29\" >29</th>\n",
       "      <td id=\"T_2f1e5_row29_col0\" class=\"data row29 col0\" >D'Onta Foreman</td>\n",
       "      <td id=\"T_2f1e5_row29_col1\" class=\"data row29 col1\" >CAR</td>\n",
       "      <td id=\"T_2f1e5_row29_col2\" class=\"data row29 col2\" >940.000000</td>\n",
       "      <td id=\"T_2f1e5_row29_col3\" class=\"data row29 col3\" >914</td>\n",
       "      <td id=\"T_2f1e5_row29_col4\" class=\"data row29 col4\" >26.000000</td>\n",
       "      <td id=\"T_2f1e5_row29_col5\" class=\"data row29 col5\" >4.500000</td>\n",
       "      <td id=\"T_2f1e5_row29_col6\" class=\"data row29 col6\" >0.300000</td>\n",
       "      <td id=\"T_2f1e5_row29_col7\" class=\"data row29 col7\" >5.000000</td>\n",
       "      <td id=\"T_2f1e5_row29_col8\" class=\"data row29 col8\" >26</td>\n",
       "    </tr>\n",
       "    <tr>\n",
       "      <th id=\"T_2f1e5_level0_row30\" class=\"row_heading level0 row30\" >30</th>\n",
       "      <td id=\"T_2f1e5_row30_col0\" class=\"data row30 col0\" >D'Andre Swift</td>\n",
       "      <td id=\"T_2f1e5_row30_col1\" class=\"data row30 col1\" >DET</td>\n",
       "      <td id=\"T_2f1e5_row30_col2\" class=\"data row30 col2\" >931.000000</td>\n",
       "      <td id=\"T_2f1e5_row30_col3\" class=\"data row30 col3\" >542</td>\n",
       "      <td id=\"T_2f1e5_row30_col4\" class=\"data row30 col4\" >389.000000</td>\n",
       "      <td id=\"T_2f1e5_row30_col5\" class=\"data row30 col5\" >5.500000</td>\n",
       "      <td id=\"T_2f1e5_row30_col6\" class=\"data row30 col6\" >3.400000</td>\n",
       "      <td id=\"T_2f1e5_row30_col7\" class=\"data row30 col7\" >8.000000</td>\n",
       "      <td id=\"T_2f1e5_row30_col8\" class=\"data row30 col8\" >23</td>\n",
       "    </tr>\n",
       "    <tr>\n",
       "      <th id=\"T_2f1e5_level0_row31\" class=\"row_heading level0 row31\" >31</th>\n",
       "      <td id=\"T_2f1e5_row31_col0\" class=\"data row31 col0\" >Cam Akers</td>\n",
       "      <td id=\"T_2f1e5_row31_col1\" class=\"data row31 col1\" >LAR</td>\n",
       "      <td id=\"T_2f1e5_row31_col2\" class=\"data row31 col2\" >903.000000</td>\n",
       "      <td id=\"T_2f1e5_row31_col3\" class=\"data row31 col3\" >786</td>\n",
       "      <td id=\"T_2f1e5_row31_col4\" class=\"data row31 col4\" >117.000000</td>\n",
       "      <td id=\"T_2f1e5_row31_col5\" class=\"data row31 col5\" >4.200000</td>\n",
       "      <td id=\"T_2f1e5_row31_col6\" class=\"data row31 col6\" >0.900000</td>\n",
       "      <td id=\"T_2f1e5_row31_col7\" class=\"data row31 col7\" >7.000000</td>\n",
       "      <td id=\"T_2f1e5_row31_col8\" class=\"data row31 col8\" >23</td>\n",
       "    </tr>\n",
       "    <tr>\n",
       "      <th id=\"T_2f1e5_level0_row32\" class=\"row_heading level0 row32\" >32</th>\n",
       "      <td id=\"T_2f1e5_row32_col0\" class=\"data row32 col0\" >Antonio Gibson</td>\n",
       "      <td id=\"T_2f1e5_row32_col1\" class=\"data row32 col1\" >WAS</td>\n",
       "      <td id=\"T_2f1e5_row32_col2\" class=\"data row32 col2\" >899.000000</td>\n",
       "      <td id=\"T_2f1e5_row32_col3\" class=\"data row32 col3\" >546</td>\n",
       "      <td id=\"T_2f1e5_row32_col4\" class=\"data row32 col4\" >353.000000</td>\n",
       "      <td id=\"T_2f1e5_row32_col5\" class=\"data row32 col5\" >3.700000</td>\n",
       "      <td id=\"T_2f1e5_row32_col6\" class=\"data row32 col6\" >3.100000</td>\n",
       "      <td id=\"T_2f1e5_row32_col7\" class=\"data row32 col7\" >5.000000</td>\n",
       "      <td id=\"T_2f1e5_row32_col8\" class=\"data row32 col8\" >24</td>\n",
       "    </tr>\n",
       "    <tr>\n",
       "      <th id=\"T_2f1e5_level0_row33\" class=\"row_heading level0 row33\" >33</th>\n",
       "      <td id=\"T_2f1e5_row33_col0\" class=\"data row33 col0\" >Latavius Murray</td>\n",
       "      <td id=\"T_2f1e5_row33_col1\" class=\"data row33 col1\" >2TM</td>\n",
       "      <td id=\"T_2f1e5_row33_col2\" class=\"data row33 col2\" >892.000000</td>\n",
       "      <td id=\"T_2f1e5_row33_col3\" class=\"data row33 col3\" >760</td>\n",
       "      <td id=\"T_2f1e5_row33_col4\" class=\"data row33 col4\" >132.000000</td>\n",
       "      <td id=\"T_2f1e5_row33_col5\" class=\"data row33 col5\" >4.400000</td>\n",
       "      <td id=\"T_2f1e5_row33_col6\" class=\"data row33 col6\" >2.100000</td>\n",
       "      <td id=\"T_2f1e5_row33_col7\" class=\"data row33 col7\" >6.000000</td>\n",
       "      <td id=\"T_2f1e5_row33_col8\" class=\"data row33 col8\" >32</td>\n",
       "    </tr>\n",
       "    <tr>\n",
       "      <th id=\"T_2f1e5_level0_row34\" class=\"row_heading level0 row34\" >34</th>\n",
       "      <td id=\"T_2f1e5_row34_col0\" class=\"data row34 col0\" >Brian Robinson Jr.</td>\n",
       "      <td id=\"T_2f1e5_row34_col1\" class=\"data row34 col1\" >WAS</td>\n",
       "      <td id=\"T_2f1e5_row34_col2\" class=\"data row34 col2\" >857.000000</td>\n",
       "      <td id=\"T_2f1e5_row34_col3\" class=\"data row34 col3\" >797</td>\n",
       "      <td id=\"T_2f1e5_row34_col4\" class=\"data row34 col4\" >60.000000</td>\n",
       "      <td id=\"T_2f1e5_row34_col5\" class=\"data row34 col5\" >3.900000</td>\n",
       "      <td id=\"T_2f1e5_row34_col6\" class=\"data row34 col6\" >0.800000</td>\n",
       "      <td id=\"T_2f1e5_row34_col7\" class=\"data row34 col7\" >3.000000</td>\n",
       "      <td id=\"T_2f1e5_row34_col8\" class=\"data row34 col8\" >23</td>\n",
       "    </tr>\n",
       "    <tr>\n",
       "      <th id=\"T_2f1e5_level0_row35\" class=\"row_heading level0 row35\" >35</th>\n",
       "      <td id=\"T_2f1e5_row35_col0\" class=\"data row35 col0\" >Cordarrelle Patterson</td>\n",
       "      <td id=\"T_2f1e5_row35_col1\" class=\"data row35 col1\" >ATL</td>\n",
       "      <td id=\"T_2f1e5_row35_col2\" class=\"data row35 col2\" >817.000000</td>\n",
       "      <td id=\"T_2f1e5_row35_col3\" class=\"data row35 col3\" >695</td>\n",
       "      <td id=\"T_2f1e5_row35_col4\" class=\"data row35 col4\" >122.000000</td>\n",
       "      <td id=\"T_2f1e5_row35_col5\" class=\"data row35 col5\" >4.800000</td>\n",
       "      <td id=\"T_2f1e5_row35_col6\" class=\"data row35 col6\" >1.600000</td>\n",
       "      <td id=\"T_2f1e5_row35_col7\" class=\"data row35 col7\" >8.000000</td>\n",
       "      <td id=\"T_2f1e5_row35_col8\" class=\"data row35 col8\" >31</td>\n",
       "    </tr>\n",
       "    <tr>\n",
       "      <th id=\"T_2f1e5_level0_row36\" class=\"row_heading level0 row36\" >36</th>\n",
       "      <td id=\"T_2f1e5_row36_col0\" class=\"data row36 col0\" >Khalil Herbert</td>\n",
       "      <td id=\"T_2f1e5_row36_col1\" class=\"data row36 col1\" >CHI</td>\n",
       "      <td id=\"T_2f1e5_row36_col2\" class=\"data row36 col2\" >788.000000</td>\n",
       "      <td id=\"T_2f1e5_row36_col3\" class=\"data row36 col3\" >731</td>\n",
       "      <td id=\"T_2f1e5_row36_col4\" class=\"data row36 col4\" >57.000000</td>\n",
       "      <td id=\"T_2f1e5_row36_col5\" class=\"data row36 col5\" >5.700000</td>\n",
       "      <td id=\"T_2f1e5_row36_col6\" class=\"data row36 col6\" >0.700000</td>\n",
       "      <td id=\"T_2f1e5_row36_col7\" class=\"data row36 col7\" >5.000000</td>\n",
       "      <td id=\"T_2f1e5_row36_col8\" class=\"data row36 col8\" >24</td>\n",
       "    </tr>\n",
       "    <tr>\n",
       "      <th id=\"T_2f1e5_level0_row37\" class=\"row_heading level0 row37\" >37</th>\n",
       "      <td id=\"T_2f1e5_row37_col0\" class=\"data row37 col0\" >Rachaad White</td>\n",
       "      <td id=\"T_2f1e5_row37_col1\" class=\"data row37 col1\" >TAM</td>\n",
       "      <td id=\"T_2f1e5_row37_col2\" class=\"data row37 col2\" >771.000000</td>\n",
       "      <td id=\"T_2f1e5_row37_col3\" class=\"data row37 col3\" >481</td>\n",
       "      <td id=\"T_2f1e5_row37_col4\" class=\"data row37 col4\" >290.000000</td>\n",
       "      <td id=\"T_2f1e5_row37_col5\" class=\"data row37 col5\" >3.700000</td>\n",
       "      <td id=\"T_2f1e5_row37_col6\" class=\"data row37 col6\" >2.900000</td>\n",
       "      <td id=\"T_2f1e5_row37_col7\" class=\"data row37 col7\" >3.000000</td>\n",
       "      <td id=\"T_2f1e5_row37_col8\" class=\"data row37 col8\" >23</td>\n",
       "    </tr>\n",
       "    <tr>\n",
       "      <th id=\"T_2f1e5_level0_row38\" class=\"row_heading level0 row38\" >38</th>\n",
       "      <td id=\"T_2f1e5_row38_col0\" class=\"data row38 col0\" >Michael Carter</td>\n",
       "      <td id=\"T_2f1e5_row38_col1\" class=\"data row38 col1\" >NYJ</td>\n",
       "      <td id=\"T_2f1e5_row38_col2\" class=\"data row38 col2\" >690.000000</td>\n",
       "      <td id=\"T_2f1e5_row38_col3\" class=\"data row38 col3\" >402</td>\n",
       "      <td id=\"T_2f1e5_row38_col4\" class=\"data row38 col4\" >288.000000</td>\n",
       "      <td id=\"T_2f1e5_row38_col5\" class=\"data row38 col5\" >3.500000</td>\n",
       "      <td id=\"T_2f1e5_row38_col6\" class=\"data row38 col6\" >2.600000</td>\n",
       "      <td id=\"T_2f1e5_row38_col7\" class=\"data row38 col7\" >3.000000</td>\n",
       "      <td id=\"T_2f1e5_row38_col8\" class=\"data row38 col8\" >23</td>\n",
       "    </tr>\n",
       "    <tr>\n",
       "      <th id=\"T_2f1e5_level0_row39\" class=\"row_heading level0 row39\" >39</th>\n",
       "      <td id=\"T_2f1e5_row39_col0\" class=\"data row39 col0\" >Kareem Hunt</td>\n",
       "      <td id=\"T_2f1e5_row39_col1\" class=\"data row39 col1\" >CLE</td>\n",
       "      <td id=\"T_2f1e5_row39_col2\" class=\"data row39 col2\" >678.000000</td>\n",
       "      <td id=\"T_2f1e5_row39_col3\" class=\"data row39 col3\" >468</td>\n",
       "      <td id=\"T_2f1e5_row39_col4\" class=\"data row39 col4\" >210.000000</td>\n",
       "      <td id=\"T_2f1e5_row39_col5\" class=\"data row39 col5\" >3.800000</td>\n",
       "      <td id=\"T_2f1e5_row39_col6\" class=\"data row39 col6\" >2.100000</td>\n",
       "      <td id=\"T_2f1e5_row39_col7\" class=\"data row39 col7\" >4.000000</td>\n",
       "      <td id=\"T_2f1e5_row39_col8\" class=\"data row39 col8\" >27</td>\n",
       "    </tr>\n",
       "    <tr>\n",
       "      <th id=\"T_2f1e5_level0_row40\" class=\"row_heading level0 row40\" >40</th>\n",
       "      <td id=\"T_2f1e5_row40_col0\" class=\"data row40 col0\" >Chuba Hubbard</td>\n",
       "      <td id=\"T_2f1e5_row40_col1\" class=\"data row40 col1\" >CAR</td>\n",
       "      <td id=\"T_2f1e5_row40_col2\" class=\"data row40 col2\" >637.000000</td>\n",
       "      <td id=\"T_2f1e5_row40_col3\" class=\"data row40 col3\" >466</td>\n",
       "      <td id=\"T_2f1e5_row40_col4\" class=\"data row40 col4\" >171.000000</td>\n",
       "      <td id=\"T_2f1e5_row40_col5\" class=\"data row40 col5\" >4.900000</td>\n",
       "      <td id=\"T_2f1e5_row40_col6\" class=\"data row40 col6\" >0.900000</td>\n",
       "      <td id=\"T_2f1e5_row40_col7\" class=\"data row40 col7\" >2.000000</td>\n",
       "      <td id=\"T_2f1e5_row40_col8\" class=\"data row40 col8\" >23</td>\n",
       "    </tr>\n",
       "    <tr>\n",
       "      <th id=\"T_2f1e5_level0_row41\" class=\"row_heading level0 row41\" >41</th>\n",
       "      <td id=\"T_2f1e5_row41_col0\" class=\"data row41 col0\" >Kenyan Drake</td>\n",
       "      <td id=\"T_2f1e5_row41_col1\" class=\"data row41 col1\" >BAL</td>\n",
       "      <td id=\"T_2f1e5_row41_col2\" class=\"data row41 col2\" >571.000000</td>\n",
       "      <td id=\"T_2f1e5_row41_col3\" class=\"data row41 col3\" >482</td>\n",
       "      <td id=\"T_2f1e5_row41_col4\" class=\"data row41 col4\" >89.000000</td>\n",
       "      <td id=\"T_2f1e5_row41_col5\" class=\"data row41 col5\" >4.400000</td>\n",
       "      <td id=\"T_2f1e5_row41_col6\" class=\"data row41 col6\" >1.400000</td>\n",
       "      <td id=\"T_2f1e5_row41_col7\" class=\"data row41 col7\" >5.000000</td>\n",
       "      <td id=\"T_2f1e5_row41_col8\" class=\"data row41 col8\" >28</td>\n",
       "    </tr>\n",
       "    <tr>\n",
       "      <th id=\"T_2f1e5_level0_row42\" class=\"row_heading level0 row42\" >42</th>\n",
       "      <td id=\"T_2f1e5_row42_col0\" class=\"data row42 col0\" >J.K. Dobbins</td>\n",
       "      <td id=\"T_2f1e5_row42_col1\" class=\"data row42 col1\" >BAL</td>\n",
       "      <td id=\"T_2f1e5_row42_col2\" class=\"data row42 col2\" >562.000000</td>\n",
       "      <td id=\"T_2f1e5_row42_col3\" class=\"data row42 col3\" >520</td>\n",
       "      <td id=\"T_2f1e5_row42_col4\" class=\"data row42 col4\" >42.000000</td>\n",
       "      <td id=\"T_2f1e5_row42_col5\" class=\"data row42 col5\" >5.700000</td>\n",
       "      <td id=\"T_2f1e5_row42_col6\" class=\"data row42 col6\" >0.900000</td>\n",
       "      <td id=\"T_2f1e5_row42_col7\" class=\"data row42 col7\" >3.000000</td>\n",
       "      <td id=\"T_2f1e5_row42_col8\" class=\"data row42 col8\" >24</td>\n",
       "    </tr>\n",
       "    <tr>\n",
       "      <th id=\"T_2f1e5_level0_row43\" class=\"row_heading level0 row43\" >43</th>\n",
       "      <td id=\"T_2f1e5_row43_col0\" class=\"data row43 col0\" >Damien Harris</td>\n",
       "      <td id=\"T_2f1e5_row43_col1\" class=\"data row43 col1\" >NWE</td>\n",
       "      <td id=\"T_2f1e5_row43_col2\" class=\"data row43 col2\" >559.000000</td>\n",
       "      <td id=\"T_2f1e5_row43_col3\" class=\"data row43 col3\" >462</td>\n",
       "      <td id=\"T_2f1e5_row43_col4\" class=\"data row43 col4\" >97.000000</td>\n",
       "      <td id=\"T_2f1e5_row43_col5\" class=\"data row43 col5\" >4.400000</td>\n",
       "      <td id=\"T_2f1e5_row43_col6\" class=\"data row43 col6\" >1.500000</td>\n",
       "      <td id=\"T_2f1e5_row43_col7\" class=\"data row43 col7\" >3.000000</td>\n",
       "      <td id=\"T_2f1e5_row43_col8\" class=\"data row43 col8\" >25</td>\n",
       "    </tr>\n",
       "    <tr>\n",
       "      <th id=\"T_2f1e5_level0_row44\" class=\"row_heading level0 row44\" >44</th>\n",
       "      <td id=\"T_2f1e5_row44_col0\" class=\"data row44 col0\" >Melvin Gordon</td>\n",
       "      <td id=\"T_2f1e5_row44_col1\" class=\"data row44 col1\" >DEN</td>\n",
       "      <td id=\"T_2f1e5_row44_col2\" class=\"data row44 col2\" >541.000000</td>\n",
       "      <td id=\"T_2f1e5_row44_col3\" class=\"data row44 col3\" >318</td>\n",
       "      <td id=\"T_2f1e5_row44_col4\" class=\"data row44 col4\" >223.000000</td>\n",
       "      <td id=\"T_2f1e5_row44_col5\" class=\"data row44 col5\" >3.500000</td>\n",
       "      <td id=\"T_2f1e5_row44_col6\" class=\"data row44 col6\" >2.500000</td>\n",
       "      <td id=\"T_2f1e5_row44_col7\" class=\"data row44 col7\" >2.000000</td>\n",
       "      <td id=\"T_2f1e5_row44_col8\" class=\"data row44 col8\" >29</td>\n",
       "    </tr>\n",
       "    <tr>\n",
       "      <th id=\"T_2f1e5_level0_row45\" class=\"row_heading level0 row45\" >45</th>\n",
       "      <td id=\"T_2f1e5_row45_col0\" class=\"data row45 col0\" >Zack Moss</td>\n",
       "      <td id=\"T_2f1e5_row45_col1\" class=\"data row45 col1\" >2TM</td>\n",
       "      <td id=\"T_2f1e5_row45_col2\" class=\"data row45 col2\" >495.000000</td>\n",
       "      <td id=\"T_2f1e5_row45_col3\" class=\"data row45 col3\" >456</td>\n",
       "      <td id=\"T_2f1e5_row45_col4\" class=\"data row45 col4\" >39.000000</td>\n",
       "      <td id=\"T_2f1e5_row45_col5\" class=\"data row45 col5\" >4.900000</td>\n",
       "      <td id=\"T_2f1e5_row45_col6\" class=\"data row45 col6\" >0.800000</td>\n",
       "      <td id=\"T_2f1e5_row45_col7\" class=\"data row45 col7\" >1.000000</td>\n",
       "      <td id=\"T_2f1e5_row45_col8\" class=\"data row45 col8\" >25</td>\n",
       "    </tr>\n",
       "    <tr>\n",
       "      <th id=\"T_2f1e5_level0_row46\" class=\"row_heading level0 row46\" >46</th>\n",
       "      <td id=\"T_2f1e5_row46_col0\" class=\"data row46 col0\" >James Robinson</td>\n",
       "      <td id=\"T_2f1e5_row46_col1\" class=\"data row46 col1\" >2TM</td>\n",
       "      <td id=\"T_2f1e5_row46_col2\" class=\"data row46 col2\" >476.000000</td>\n",
       "      <td id=\"T_2f1e5_row46_col3\" class=\"data row46 col3\" >425</td>\n",
       "      <td id=\"T_2f1e5_row46_col4\" class=\"data row46 col4\" >51.000000</td>\n",
       "      <td id=\"T_2f1e5_row46_col5\" class=\"data row46 col5\" >3.900000</td>\n",
       "      <td id=\"T_2f1e5_row46_col6\" class=\"data row46 col6\" >1.000000</td>\n",
       "      <td id=\"T_2f1e5_row46_col7\" class=\"data row46 col7\" >5.000000</td>\n",
       "      <td id=\"T_2f1e5_row46_col8\" class=\"data row46 col8\" >24</td>\n",
       "    </tr>\n",
       "    <tr>\n",
       "      <th id=\"T_2f1e5_level0_row47\" class=\"row_heading level0 row47\" >47</th>\n",
       "      <td id=\"T_2f1e5_row47_col0\" class=\"data row47 col0\" >Clyde Edwards-Helaire</td>\n",
       "      <td id=\"T_2f1e5_row47_col1\" class=\"data row47 col1\" >KAN</td>\n",
       "      <td id=\"T_2f1e5_row47_col2\" class=\"data row47 col2\" >453.000000</td>\n",
       "      <td id=\"T_2f1e5_row47_col3\" class=\"data row47 col3\" >302</td>\n",
       "      <td id=\"T_2f1e5_row47_col4\" class=\"data row47 col4\" >151.000000</td>\n",
       "      <td id=\"T_2f1e5_row47_col5\" class=\"data row47 col5\" >4.300000</td>\n",
       "      <td id=\"T_2f1e5_row47_col6\" class=\"data row47 col6\" >1.700000</td>\n",
       "      <td id=\"T_2f1e5_row47_col7\" class=\"data row47 col7\" >6.000000</td>\n",
       "      <td id=\"T_2f1e5_row47_col8\" class=\"data row47 col8\" >23</td>\n",
       "    </tr>\n",
       "    <tr>\n",
       "      <th id=\"T_2f1e5_level0_row48\" class=\"row_heading level0 row48\" >48</th>\n",
       "      <td id=\"T_2f1e5_row48_col0\" class=\"data row48 col0\" >Gus Edwards</td>\n",
       "      <td id=\"T_2f1e5_row48_col1\" class=\"data row48 col1\" >BAL</td>\n",
       "      <td id=\"T_2f1e5_row48_col2\" class=\"data row48 col2\" >433.000000</td>\n",
       "      <td id=\"T_2f1e5_row48_col3\" class=\"data row48 col3\" >433</td>\n",
       "      <td id=\"T_2f1e5_row48_col4\" class=\"data row48 col4\" >0.000000</td>\n",
       "      <td id=\"T_2f1e5_row48_col5\" class=\"data row48 col5\" >5.000000</td>\n",
       "      <td id=\"T_2f1e5_row48_col6\" class=\"data row48 col6\" >0.000000</td>\n",
       "      <td id=\"T_2f1e5_row48_col7\" class=\"data row48 col7\" >3.000000</td>\n",
       "      <td id=\"T_2f1e5_row48_col8\" class=\"data row48 col8\" >27</td>\n",
       "    </tr>\n",
       "    <tr>\n",
       "      <th id=\"T_2f1e5_level0_row49\" class=\"row_heading level0 row49\" >49</th>\n",
       "      <td id=\"T_2f1e5_row49_col0\" class=\"data row49 col0\" >Darrell Henderson</td>\n",
       "      <td id=\"T_2f1e5_row49_col1\" class=\"data row49 col1\" >LAR</td>\n",
       "      <td id=\"T_2f1e5_row49_col2\" class=\"data row49 col2\" >385.000000</td>\n",
       "      <td id=\"T_2f1e5_row49_col3\" class=\"data row49 col3\" >283</td>\n",
       "      <td id=\"T_2f1e5_row49_col4\" class=\"data row49 col4\" >102.000000</td>\n",
       "      <td id=\"T_2f1e5_row49_col5\" class=\"data row49 col5\" >4.000000</td>\n",
       "      <td id=\"T_2f1e5_row49_col6\" class=\"data row49 col6\" >1.700000</td>\n",
       "      <td id=\"T_2f1e5_row49_col7\" class=\"data row49 col7\" >3.000000</td>\n",
       "      <td id=\"T_2f1e5_row49_col8\" class=\"data row49 col8\" >25</td>\n",
       "    </tr>\n",
       "    <tr>\n",
       "      <th id=\"T_2f1e5_level0_row50\" class=\"row_heading level0 row50\" >50</th>\n",
       "      <td id=\"T_2f1e5_row50_col0\" class=\"data row50 col0\" >Caleb Huntley</td>\n",
       "      <td id=\"T_2f1e5_row50_col1\" class=\"data row50 col1\" >ATL</td>\n",
       "      <td id=\"T_2f1e5_row50_col2\" class=\"data row50 col2\" >369.000000</td>\n",
       "      <td id=\"T_2f1e5_row50_col3\" class=\"data row50 col3\" >366</td>\n",
       "      <td id=\"T_2f1e5_row50_col4\" class=\"data row50 col4\" >3.000000</td>\n",
       "      <td id=\"T_2f1e5_row50_col5\" class=\"data row50 col5\" >4.800000</td>\n",
       "      <td id=\"T_2f1e5_row50_col6\" class=\"data row50 col6\" >0.200000</td>\n",
       "      <td id=\"T_2f1e5_row50_col7\" class=\"data row50 col7\" >1.000000</td>\n",
       "      <td id=\"T_2f1e5_row50_col8\" class=\"data row50 col8\" >24</td>\n",
       "    </tr>\n",
       "  </tbody>\n",
       "</table>\n"
      ],
      "text/plain": [
       "<pandas.io.formats.style.Styler at 0x1351407d0>"
      ]
     },
     "execution_count": 3,
     "metadata": {},
     "output_type": "execute_result"
    }
   ],
   "source": [
    "rb = pd.read_csv(\"summarized_view.csv\")\n",
    "Show = rb.style.background_gradient(cmap=\"PiYG\")\n",
    "Show"
   ]
  },
  {
   "cell_type": "markdown",
   "metadata": {},
   "source": [
    "## Violin plot of players age and efficiency"
   ]
  },
  {
   "cell_type": "code",
   "execution_count": 3,
   "metadata": {},
   "outputs": [
    {
     "name": "stderr",
     "output_type": "stream",
     "text": [
      "/var/folders/tc/xk9whcf93kl_0nyd7t8d69100000gn/T/ipykernel_43481/3752054645.py:1: FutureWarning: \n",
      "\n",
      "Passing `palette` without assigning `hue` is deprecated and will be removed in v0.14.0. Assign the `x` variable to `hue` and set `legend=False` for the same effect.\n",
      "\n",
      "  sns.violinplot(x=\"Age\", y=\"Yds/Rush\", data=rb, inner=None, palette=\"Set3\")\n"
     ]
    },
    {
     "data": {
      "image/png": "[encoded data removed]",
      "text/plain": [
       "<Figure size 640x480 with 1 Axes>"
      ]
     },
     "metadata": {},
     "output_type": "display_data"
    },
    {
     "data": {
      "text/plain": [
       "<Figure size 5000x4800 with 0 Axes>"
      ]
     },
     "metadata": {},
     "output_type": "display_data"
    }
   ],
   "source": [
    "sns.violinplot(x=\"Age\", y=\"Yds/Rush\", data=rb, inner=None, palette=\"Set3\")\n",
    "sns.boxplot(x=\"Age\", y=\"Yds/Rush\", data=rb, width=0.2, color=\"black\")\n",
    "\n",
    "\n",
    "plt.xlabel(\"Age\")\n",
    "plt.ylabel(\"Yard/Rush\")\n",
    "plt.title(\"Players efficeincy by age\")\n",
    "plt.figure(figsize=(50, 48))\n",
    "\n",
    "plt.show()"
   ]
  },
  {
   "cell_type": "markdown",
   "metadata": {},
   "source": [
    "This plot gives us information about how efficient running backs were last year based on their age. We see that the most efficient RBs were 24, yet the production was volatile. The most consistent RBs were 22, and they seemed to be some of the more efficient RBs (based on medians). How wideness of each 'Violin' shows how many players fell into that category of efficiency. Ages 29, 30, 31, and 32 aren't as useful to us because there seems to be only 1, or close to 1, player to look at.\n",
    "\n",
    "From a GM's point of view, I could use this when conducting trades/drafting players for my team. It seems like the younger guys can produce just as well as older ones, even without experience. From this, I could come to a conclusion to keep my running back room relatively young in order to potentially gain the most effiency in my runs. "
   ]
  },
  {
   "cell_type": "markdown",
   "metadata": {},
   "source": [
    "## Scatter plot of how players receptions per game translates to total touchdowns"
   ]
  },
  {
   "cell_type": "code",
   "execution_count": 4,
   "metadata": {},
   "outputs": [
    {
     "data": {
      "image/png": "[encoded data removed]",
      "text/plain": [
       "<Figure size 640x480 with 1 Axes>"
      ]
     },
     "metadata": {},
     "output_type": "display_data"
    }
   ],
   "source": [
    "# Values to put into scatter plot\n",
    "x1 = rb[\"Receptions/G\"]\n",
    "x1 = x1.values.tolist()\n",
    "y1 = rb[\"Total_TDs\"]\n",
    "y1 = y1.values.tolist()\n",
    "z = y1\n",
    "\n",
    "\n",
    "plt.scatter(\n",
    "    x1,\n",
    "    y1,\n",
    "    c=y1,\n",
    "    cmap=\"YlGn\",\n",
    "    edgecolor=\"black\",\n",
    "    s=100,\n",
    ")\n",
    "\n",
    "plt.xlabel(\"Receptions/Game\")\n",
    "plt.ylabel(\"Touchdowns\")\n",
    "plt.title(\"Receptions per game : Touchdowns\")\n",
    "\n",
    "plt.show()"
   ]
  },
  {
   "cell_type": "markdown",
   "metadata": {},
   "source": [
    "We see a clear trend in receptions/Game and Touchdowns (disregarding a clear outlier: goal line merchant, Jamal Williams). There seems to be a positive correlation of Receptions/G to Touchdowns, it looks like (mostly) when a player catches more passes in a game, they are likley to have more touchdowns on the season\n",
    "\n",
    "A fantasy football manager in a PPR leauge might love to see this. Catches and touchdowns are very valuable in these types of fantasy leagues beacuse they help accumulate points greatly. A fantasy manager could use this to help go for (draft or trade) RBs that typically catch more passes to potentially maximize their scoring. "
   ]
  },
  {
   "cell_type": "markdown",
   "metadata": {},
   "source": [
    "## Bar plot showing rushing and receiving yards of specific player vs the average for all players in the data\n",
    "* Enter the player you'd like to look at in 'Player_name' and click play, make sure to have correct spelling!\n"
   ]
  },
  {
   "cell_type": "code",
   "execution_count": 5,
   "metadata": {},
   "outputs": [
    {
     "data": {
      "image/png": "[encoded data removed]",
      "text/plain": [
       "<Figure size 640x480 with 1 Axes>"
      ]
     },
     "metadata": {},
     "output_type": "display_data"
    }
   ],
   "source": [
    "Player_name = \"Jonathan Taylor\"\n",
    "# Derrick Henry\n",
    "\n",
    "\n",
    "# --------------------------------------------------Background tings-------------------------------------------------------#\n",
    "\n",
    "# Values for graph\n",
    "Categories = [\"Rush_Yds\", \"Rec_Yds\"]\n",
    "AvgYds = [rb[\"Rush_Yds\"].mean(), rb[\"Rec_Yds\"].mean()]\n",
    "Yards_data = rb.loc[\n",
    "    rb[\"Player\"] == Player_name,\n",
    "    [\n",
    "        \"Rush_Yds\",\n",
    "        \"Rec_Yds\",\n",
    "    ],\n",
    "]\n",
    "PYards = Yards_data.values.tolist()[0]\n",
    "\n",
    "\n",
    "# Graph\n",
    "\n",
    "# First set\n",
    "fig, ax1 = plt.subplots()\n",
    "ax1.bar(Categories, AvgYds, label=\"Average Yards\")\n",
    "ax1.set_ylabel(\"Average Yards\")\n",
    "\n",
    "\n",
    "# Second set\n",
    "ax1.plot(Categories, PYards, label=Player_name + \" Yards\", color=\"r\", marker=\"o\")\n",
    "ax1.set_ylabel(\"Yards\")\n",
    "\n",
    "\n",
    "# Captions\n",
    "for i, v in enumerate(AvgYds):\n",
    "    plt.text(i, v / 2, int(v), ha=\"center\", va=\"center\")  # for averages\n",
    "\n",
    "\n",
    "ax1.legend(loc=\"upper right\")\n",
    "plt.ylim(0, rb[\"Rush_Yds\"].max())\n",
    "plt.title(Player_name + \" vs Average Yardage\")\n",
    "\n",
    "\n",
    "plt.show()"
   ]
  },
  {
   "cell_type": "markdown",
   "metadata": {},
   "source": [
    "You will see on the line plot how the player you entered stacks up against the averages of the other RBs in the league (dataset). For example if we look at Derrick(King) Henry we can see he is an exceptional running back. He is much higher than league average for rushing yards, he is close to the top. He is alos a bit higher than league average in recieving yards, but not to the scale of the rushing category.\n",
    "\n",
    "A GM could use this to see how their RBs are doing compared to the other in the league ('market'). It can aid him/her in deciding whether to trade, cut, bench, or give the ball more to a certain player next year. "
   ]
  },
  {
   "cell_type": "markdown",
   "metadata": {},
   "source": [
    "## Radar Chart for Player vs Player comparison of a variety of stats\n",
    "* This visualization is showing a standardized set the players stats\n",
    "    - The mean is 0 and -4 to 4 represent how many standard deviations the player is away from the mean of the stat in question\n",
    "    - -1 to 1 represents 68% of players, -2 to 2 represents 95% of players, -3 to 3 represents 99% of players. This means that someone with a standard deviaiton of 2 97.5th percentile of player, conversely -2 would mean 2.5th percentile of players.\n",
    "    - Standard deviation value is noted at r:___ in the plot\n",
    "* Enter the two players you want to view in the Player_name's and click play, make sure to have correct spelling!"
   ]
  },
  {
   "cell_type": "code",
   "execution_count": 6,
   "metadata": {},
   "outputs": [
    {
     "data": {
      "application/vnd.plotly.v1+json": {
       "config": {
        "plotlyServerURL": "https://plot.ly"
       },
       "data": [
        {
         "fill": "toself",
         "name": "Jonathan Taylor",
         "r": [
          0.1482044613031182,
          -0.5267473956018485,
          0.038767497882413855,
          0.28415302363586226,
          -0.7075401016936776
         ],
         "theta": [
          "Rush_Yds",
          "Rec_Yds",
          "Yds/Rush",
          "Receptions/G",
          "Total_TDs"
         ],
         "type": "scatterpolar"
        },
        {
         "fill": "toself",
         "name": "Austin Ekeler",
         "r": [
          0.31371747283141804,
          2.920576151545089,
          0.038767497882413855,
          3.1978491072670843,
          2.900914416944078
         ],
         "theta": [
          "Rush_Yds",
          "Rec_Yds",
          "Yds/Rush",
          "Receptions/G",
          "Total_TDs"
         ],
         "type": "scatterpolar"
        }
       ],
       "layout": {
        "height": 600,
        "polar": {
         "radialaxis": {
          "range": [
           -4,
           4
          ],
          "visible": true
         }
        },
        "showlegend": false,
        "template": {
         "data": {
          "bar": [
           {
            "error_x": {
             "color": "#2a3f5f"
            },
            "error_y": {
             "color": "#2a3f5f"
            },
            "marker": {
             "line": {
              "color": "#E5ECF6",
              "width": 0.5
             },
             "pattern": {
              "fillmode": "overlay",
              "size": 10,
              "solidity": 0.2
             }
            },
            "type": "bar"
           }
          ],
          "barpolar": [
           {
            "marker": {
             "line": {
              "color": "#E5ECF6",
              "width": 0.5
             },
             "pattern": {
              "fillmode": "overlay",
              "size": 10,
              "solidity": 0.2
             }
            },
            "type": "barpolar"
           }
          ],
          "carpet": [
           {
            "aaxis": {
             "endlinecolor": "#2a3f5f",
             "gridcolor": "white",
             "linecolor": "white",
             "minorgridcolor": "white",
             "startlinecolor": "#2a3f5f"
            },
            "baxis": {
             "endlinecolor": "#2a3f5f",
             "gridcolor": "white",
             "linecolor": "white",
             "minorgridcolor": "white",
             "startlinecolor": "#2a3f5f"
            },
            "type": "carpet"
           }
          ],
          "choropleth": [
           {
            "colorbar": {
             "outlinewidth": 0,
             "ticks": ""
            },
            "type": "choropleth"
           }
          ],
          "contour": [
           {
            "colorbar": {
             "outlinewidth": 0,
             "ticks": ""
            },
            "colorscale": [
             [
              0,
              "#0d0887"
             ],
             [
              0.1111111111111111,
              "#46039f"
             ],
             [
              0.2222222222222222,
              "#7201a8"
             ],
             [
              0.3333333333333333,
              "#9c179e"
             ],
             [
              0.4444444444444444,
              "#bd3786"
             ],
             [
              0.5555555555555556,
              "#d8576b"
             ],
             [
              0.6666666666666666,
              "#ed7953"
             ],
             [
              0.7777777777777778,
              "#fb9f3a"
             ],
             [
              0.8888888888888888,
              "#fdca26"
             ],
             [
              1,
              "#f0f921"
             ]
            ],
            "type": "contour"
           }
          ],
          "contourcarpet": [
           {
            "colorbar": {
             "outlinewidth": 0,
             "ticks": ""
            },
            "type": "contourcarpet"
           }
          ],
          "heatmap": [
           {
            "colorbar": {
             "outlinewidth": 0,
             "ticks": ""
            },
            "colorscale": [
             [
              0,
              "#0d0887"
             ],
             [
              0.1111111111111111,
              "#46039f"
             ],
             [
              0.2222222222222222,
              "#7201a8"
             ],
             [
              0.3333333333333333,
              "#9c179e"
             ],
             [
              0.4444444444444444,
              "#bd3786"
             ],
             [
              0.5555555555555556,
              "#d8576b"
             ],
             [
              0.6666666666666666,
              "#ed7953"
             ],
             [
              0.7777777777777778,
              "#fb9f3a"
             ],
             [
              0.8888888888888888,
              "#fdca26"
             ],
             [
              1,
              "#f0f921"
             ]
            ],
            "type": "heatmap"
           }
          ],
          "heatmapgl": [
           {
            "colorbar": {
             "outlinewidth": 0,
             "ticks": ""
            },
            "colorscale": [
             [
              0,
              "#0d0887"
             ],
             [
              0.1111111111111111,
              "#46039f"
             ],
             [
              0.2222222222222222,
              "#7201a8"
             ],
             [
              0.3333333333333333,
              "#9c179e"
             ],
             [
              0.4444444444444444,
              "#bd3786"
             ],
             [
              0.5555555555555556,
              "#d8576b"
             ],
             [
              0.6666666666666666,
              "#ed7953"
             ],
             [
              0.7777777777777778,
              "#fb9f3a"
             ],
             [
              0.8888888888888888,
              "#fdca26"
             ],
             [
              1,
              "#f0f921"
             ]
            ],
            "type": "heatmapgl"
           }
          ],
          "histogram": [
           {
            "marker": {
             "pattern": {
              "fillmode": "overlay",
              "size": 10,
              "solidity": 0.2
             }
            },
            "type": "histogram"
           }
          ],
          "histogram2d": [
           {
            "colorbar": {
             "outlinewidth": 0,
             "ticks": ""
            },
            "colorscale": [
             [
              0,
              "#0d0887"
             ],
             [
              0.1111111111111111,
              "#46039f"
             ],
             [
              0.2222222222222222,
              "#7201a8"
             ],
             [
              0.3333333333333333,
              "#9c179e"
             ],
             [
              0.4444444444444444,
              "#bd3786"
             ],
             [
              0.5555555555555556,
              "#d8576b"
             ],
             [
              0.6666666666666666,
              "#ed7953"
             ],
             [
              0.7777777777777778,
              "#fb9f3a"
             ],
             [
              0.8888888888888888,
              "#fdca26"
             ],
             [
              1,
              "#f0f921"
             ]
            ],
            "type": "histogram2d"
           }
          ],
          "histogram2dcontour": [
           {
            "colorbar": {
             "outlinewidth": 0,
             "ticks": ""
            },
            "colorscale": [
             [
              0,
              "#0d0887"
             ],
             [
              0.1111111111111111,
              "#46039f"
             ],
             [
              0.2222222222222222,
              "#7201a8"
             ],
             [
              0.3333333333333333,
              "#9c179e"
             ],
             [
              0.4444444444444444,
              "#bd3786"
             ],
             [
              0.5555555555555556,
              "#d8576b"
             ],
             [
              0.6666666666666666,
              "#ed7953"
             ],
             [
              0.7777777777777778,
              "#fb9f3a"
             ],
             [
              0.8888888888888888,
              "#fdca26"
             ],
             [
              1,
              "#f0f921"
             ]
            ],
            "type": "histogram2dcontour"
           }
          ],
          "mesh3d": [
           {
            "colorbar": {
             "outlinewidth": 0,
             "ticks": ""
            },
            "type": "mesh3d"
           }
          ],
          "parcoords": [
           {
            "line": {
             "colorbar": {
              "outlinewidth": 0,
              "ticks": ""
             }
            },
            "type": "parcoords"
           }
          ],
          "pie": [
           {
            "automargin": true,
            "type": "pie"
           }
          ],
          "scatter": [
           {
            "fillpattern": {
             "fillmode": "overlay",
             "size": 10,
             "solidity": 0.2
            },
            "type": "scatter"
           }
          ],
          "scatter3d": [
           {
            "line": {
             "colorbar": {
              "outlinewidth": 0,
              "ticks": ""
             }
            },
            "marker": {
             "colorbar": {
              "outlinewidth": 0,
              "ticks": ""
             }
            },
            "type": "scatter3d"
           }
          ],
          "scattercarpet": [
           {
            "marker": {
             "colorbar": {
              "outlinewidth": 0,
              "ticks": ""
             }
            },
            "type": "scattercarpet"
           }
          ],
          "scattergeo": [
           {
            "marker": {
             "colorbar": {
              "outlinewidth": 0,
              "ticks": ""
             }
            },
            "type": "scattergeo"
           }
          ],
          "scattergl": [
           {
            "marker": {
             "colorbar": {
              "outlinewidth": 0,
              "ticks": ""
             }
            },
            "type": "scattergl"
           }
          ],
          "scattermapbox": [
           {
            "marker": {
             "colorbar": {
              "outlinewidth": 0,
              "ticks": ""
             }
            },
            "type": "scattermapbox"
           }
          ],
          "scatterpolar": [
           {
            "marker": {
             "colorbar": {
              "outlinewidth": 0,
              "ticks": ""
             }
            },
            "type": "scatterpolar"
           }
          ],
          "scatterpolargl": [
           {
            "marker": {
             "colorbar": {
              "outlinewidth": 0,
              "ticks": ""
             }
            },
            "type": "scatterpolargl"
           }
          ],
          "scatterternary": [
           {
            "marker": {
             "colorbar": {
              "outlinewidth": 0,
              "ticks": ""
             }
            },
            "type": "scatterternary"
           }
          ],
          "surface": [
           {
            "colorbar": {
             "outlinewidth": 0,
             "ticks": ""
            },
            "colorscale": [
             [
              0,
              "#0d0887"
             ],
             [
              0.1111111111111111,
              "#46039f"
             ],
             [
              0.2222222222222222,
              "#7201a8"
             ],
             [
              0.3333333333333333,
              "#9c179e"
             ],
             [
              0.4444444444444444,
              "#bd3786"
             ],
             [
              0.5555555555555556,
              "#d8576b"
             ],
             [
              0.6666666666666666,
              "#ed7953"
             ],
             [
              0.7777777777777778,
              "#fb9f3a"
             ],
             [
              0.8888888888888888,
              "#fdca26"
             ],
             [
              1,
              "#f0f921"
             ]
            ],
            "type": "surface"
           }
          ],
          "table": [
           {
            "cells": {
             "fill": {
              "color": "#EBF0F8"
             },
             "line": {
              "color": "white"
             }
            },
            "header": {
             "fill": {
              "color": "#C8D4E3"
             },
             "line": {
              "color": "white"
             }
            },
            "type": "table"
           }
          ]
         },
         "layout": {
          "annotationdefaults": {
           "arrowcolor": "#2a3f5f",
           "arrowhead": 0,
           "arrowwidth": 1
          },
          "autotypenumbers": "strict",
          "coloraxis": {
           "colorbar": {
            "outlinewidth": 0,
            "ticks": ""
           }
          },
          "colorscale": {
           "diverging": [
            [
             0,
             "#8e0152"
            ],
            [
             0.1,
             "#c51b7d"
            ],
            [
             0.2,
             "#de77ae"
            ],
            [
             0.3,
             "#f1b6da"
            ],
            [
             0.4,
             "#fde0ef"
            ],
            [
             0.5,
             "#f7f7f7"
            ],
            [
             0.6,
             "#e6f5d0"
            ],
            [
             0.7,
             "#b8e186"
            ],
            [
             0.8,
             "#7fbc41"
            ],
            [
             0.9,
             "#4d9221"
            ],
            [
             1,
             "#276419"
            ]
           ],
           "sequential": [
            [
             0,
             "#0d0887"
            ],
            [
             0.1111111111111111,
             "#46039f"
            ],
            [
             0.2222222222222222,
             "#7201a8"
            ],
            [
             0.3333333333333333,
             "#9c179e"
            ],
            [
             0.4444444444444444,
             "#bd3786"
            ],
            [
             0.5555555555555556,
             "#d8576b"
            ],
            [
             0.6666666666666666,
             "#ed7953"
            ],
            [
             0.7777777777777778,
             "#fb9f3a"
            ],
            [
             0.8888888888888888,
             "#fdca26"
            ],
            [
             1,
             "#f0f921"
            ]
           ],
           "sequentialminus": [
            [
             0,
             "#0d0887"
            ],
            [
             0.1111111111111111,
             "#46039f"
            ],
            [
             0.2222222222222222,
             "#7201a8"
            ],
            [
             0.3333333333333333,
             "#9c179e"
            ],
            [
             0.4444444444444444,
             "#bd3786"
            ],
            [
             0.5555555555555556,
             "#d8576b"
            ],
            [
             0.6666666666666666,
             "#ed7953"
            ],
            [
             0.7777777777777778,
             "#fb9f3a"
            ],
            [
             0.8888888888888888,
             "#fdca26"
            ],
            [
             1,
             "#f0f921"
            ]
           ]
          },
          "colorway": [
           "#636efa",
           "#EF553B",
           "#00cc96",
           "#ab63fa",
           "#FFA15A",
           "#19d3f3",
           "#FF6692",
           "#B6E880",
           "#FF97FF",
           "#FECB52"
          ],
          "font": {
           "color": "#2a3f5f"
          },
          "geo": {
           "bgcolor": "white",
           "lakecolor": "white",
           "landcolor": "#E5ECF6",
           "showlakes": true,
           "showland": true,
           "subunitcolor": "white"
          },
          "hoverlabel": {
           "align": "left"
          },
          "hovermode": "closest",
          "mapbox": {
           "style": "light"
          },
          "paper_bgcolor": "white",
          "plot_bgcolor": "#E5ECF6",
          "polar": {
           "angularaxis": {
            "gridcolor": "white",
            "linecolor": "white",
            "ticks": ""
           },
           "bgcolor": "#E5ECF6",
           "radialaxis": {
            "gridcolor": "white",
            "linecolor": "white",
            "ticks": ""
           }
          },
          "scene": {
           "xaxis": {
            "backgroundcolor": "#E5ECF6",
            "gridcolor": "white",
            "gridwidth": 2,
            "linecolor": "white",
            "showbackground": true,
            "ticks": "",
            "zerolinecolor": "white"
           },
           "yaxis": {
            "backgroundcolor": "#E5ECF6",
            "gridcolor": "white",
            "gridwidth": 2,
            "linecolor": "white",
            "showbackground": true,
            "ticks": "",
            "zerolinecolor": "white"
           },
           "zaxis": {
            "backgroundcolor": "#E5ECF6",
            "gridcolor": "white",
            "gridwidth": 2,
            "linecolor": "white",
            "showbackground": true,
            "ticks": "",
            "zerolinecolor": "white"
           }
          },
          "shapedefaults": {
           "line": {
            "color": "#2a3f5f"
           }
          },
          "ternary": {
           "aaxis": {
            "gridcolor": "white",
            "linecolor": "white",
            "ticks": ""
           },
           "baxis": {
            "gridcolor": "white",
            "linecolor": "white",
            "ticks": ""
           },
           "bgcolor": "#E5ECF6",
           "caxis": {
            "gridcolor": "white",
            "linecolor": "white",
            "ticks": ""
           }
          },
          "title": {
           "x": 0.05
          },
          "xaxis": {
           "automargin": true,
           "gridcolor": "white",
           "linecolor": "white",
           "ticks": "",
           "title": {
            "standoff": 15
           },
           "zerolinecolor": "white",
           "zerolinewidth": 2
          },
          "yaxis": {
           "automargin": true,
           "gridcolor": "white",
           "linecolor": "white",
           "ticks": "",
           "title": {
            "standoff": 15
           },
           "zerolinecolor": "white",
           "zerolinewidth": 2
          }
         }
        },
        "width": 700
       }
      }
     },
     "metadata": {},
     "output_type": "display_data"
    }
   ],
   "source": [
    "Player_name_1 = \"Jonathan Taylor\"\n",
    "Player_name_2 = \"Austin Ekeler\"\n",
    "\n",
    "\n",
    "# -----------------------------------------------Background Tings---------------------------------------#\n",
    "\n",
    "# Standardized data set of RBs\n",
    "StandardizedRB = pd.DataFrame()\n",
    "scaler = StandardScaler()\n",
    "\n",
    "ctc = [\"Player\", \"Rush_Yds\", \"Rec_Yds\", \"Yds/Rush\", \"Receptions/G\", \"Total_TDs\"]\n",
    "StandardizedRB = rb[ctc].copy()\n",
    "Skip = \"Player\"\n",
    "\n",
    "for column in StandardizedRB.columns:\n",
    "    if column == Skip:\n",
    "        continue\n",
    "    StandardizedRB[column] = scaler.fit_transform(StandardizedRB[[column]])\n",
    "\n",
    "\n",
    "# Values for player stats\n",
    "Yards_data = StandardizedRB.loc[\n",
    "    rb[\"Player\"] == Player_name_1,\n",
    "    [\n",
    "        \"Rush_Yds\",\n",
    "        \"Rec_Yds\",\n",
    "        \"Yds/Rush\",\n",
    "        \"Receptions/G\",\n",
    "        \"Total_TDs\",\n",
    "    ],\n",
    "]\n",
    "Pstats = Yards_data.values.tolist()[0]\n",
    "\n",
    "Yards_data2 = StandardizedRB.loc[\n",
    "    rb[\"Player\"] == Player_name_2,\n",
    "    [\n",
    "        \"Rush_Yds\",\n",
    "        \"Rec_Yds\",\n",
    "        \"Yds/Rush\",\n",
    "        \"Receptions/G\",\n",
    "        \"Total_TDs\",\n",
    "    ],\n",
    "]\n",
    "Pstats2 = Yards_data2.values.tolist()[0]\n",
    "\n",
    "categories = [\"Rush_Yds\", \"Rec_Yds\", \"Yds/Rush\", \"Receptions/G\", \"Total_TDs\"]\n",
    "\n",
    "\n",
    "# Radar plot\n",
    "fig = go.Figure()\n",
    "\n",
    "fig.add_trace(\n",
    "    go.Scatterpolar(r=Pstats, theta=categories, fill=\"toself\", name=Player_name_1)\n",
    ")\n",
    "\n",
    "\n",
    "fig.add_trace(\n",
    "    go.Scatterpolar(r=Pstats2, theta=categories, fill=\"toself\", name=Player_name_2)\n",
    ")\n",
    "\n",
    "fig.update_layout(\n",
    "    polar=dict(radialaxis=dict(visible=True, range=[-4, 4])),\n",
    "    showlegend=False,\n",
    "    width=700,\n",
    "    height=600,\n",
    ")\n",
    "\n",
    "fig.show()"
   ]
  },
  {
   "cell_type": "markdown",
   "metadata": {},
   "source": [
    "It is easy to see here that in 2022 Austin Ekeler was the much better player. He was in (close to) the 99.8th percentile in three different stat categories. While Jonathan Taylor was about average or below average in every stat. The Monster that is Austin Ekeler *literally* engulfes Jonathan Taylor in the visualization\n",
    "\n",
    "A GM can use this to analyze aspect of a trade of two specific players, looking at each of their strengths and coming to a conclusion of who/who not to trade. A fantasy football manager could also use this when drafting or trading a player. For example if the manager wants to have a RB who has a lot of receptions, they can compare two players they are about to draft and make a decision based off of it."
   ]
  },
  {
   "cell_type": "markdown",
   "metadata": {},
   "source": [
    "# A few confounding variables\n",
    "\n",
    "A couple things to take into account when using this dataset and analyzations: \n",
    "\n",
    "* Injuries: Reported or unreported injuries can can greatly impact how a running back performs.\n",
    "* Team Strength: The overall performance and strength of the running back's team can influence individual statistics. A strong team may lead to more opportunities for the running back to score or gain yards.\n",
    "* Offensive Line Quality: The quality of the offensive line, including blocking and protection, significantly affects a running back's performance. A strong offensive line can create more running lanes and provide better protection for the quarterback.\n",
    "* Quarterback Play: The performance of the quarterback can impact running back statistics, especially in play-action passing situations or when the quarterback's threat as a passer affects defensive strategies.\n",
    "* Game Script: The score and game situation can affect play-calling. In games where a team is trailing, running backs may receive fewer rushing attempts.\n",
    "* Weather Conditions: Weather can impact the game, affecting running back performance, especially in adverse conditions like rain, snow, or extreme heat.\n",
    "* Opponent Defense: The quality of the opposing defense can influence running back statistics. Strong defenses may limit rushing yards and touchdowns.\n",
    "* Coaching Strategies: Coaching decisions, such as run-pass balance against certain teams, can impact a running back's opportunities and performance.\n",
    "* Fumbles and Turnovers: Fumbles and turnovers can lead to reduced playing time and opportunities for running backs.\n",
    "* Red Zone Opportunities: The number of red zone (inside the opponent's 20-yard line) opportunities can affect touchdown statistics.\n",
    "* Contract Status: Contract situations and incentives in a player's contract can influence performance.\n",
    "* Time of Possession: The time of possession by each team can impact a running back's opportunities and touches.\n",
    "\n",
    "\n",
    "\n",
    "\n",
    "\n",
    "\n",
    "\n",
    "\n",
    "\n"
   ]
  }
 ],
 "metadata": {
  "kernelspec": {
   "display_name": "Python 3",
   "language": "python",
   "name": "python3"
  },
  "language_info": {
   "codemirror_mode": {
    "name": "ipython",
    "version": 3
   },
   "file_extension": ".py",
   "mimetype": "text/x-python",
   "name": "python",
   "nbconvert_exporter": "python",
   "pygments_lexer": "ipython3",
   "version": "3.12.4"
  }
 },
 "nbformat": 4,
 "nbformat_minor": 2
}
